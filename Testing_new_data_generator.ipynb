{
 "cells": [
  {
   "cell_type": "markdown",
   "id": "2784b2e2-b843-4c6b-9f65-beda8a2e694d",
   "metadata": {},
   "source": [
    "#  New data generator\n",
    "\n",
    "Scheme:\n",
    "\n",
    "Quickly modify the mel dataloader - so that you can poitn it at a given folder (not just the data folder)\n",
    "\n",
    "User generated or random choice of number of negative and positive words in 1 sample  (between 0 and 1) - want an even split between 01, 10 and 11 but no 00\n",
    "\n",
    "Each clip is 1 second or less - so can have a max of I'd say 8 - to leave 2 second of background\n",
    "\n",
    "Select the [1 to 2] clips - and get their sizes in tensor format \n",
    "\n",
    "Generate the random non overlapping positiions of the words - this might be tricky as we need to put them in places where there is still space \n",
    "\n",
    "\n",
    "Generate the dataspace"
   ]
  },
  {
   "cell_type": "code",
   "execution_count": null,
   "id": "f53973f5-aa1c-443e-9f97-9e09a3bf5bbb",
   "metadata": {},
   "outputs": [],
   "source": []
  },
  {
   "cell_type": "code",
   "execution_count": null,
   "id": "f2e843f6-e28c-48e0-910d-abb4b96798fb",
   "metadata": {},
   "outputs": [],
   "source": []
  },
  {
   "cell_type": "code",
   "execution_count": null,
   "id": "85c0e46f-8372-45b5-87c7-b61583d05feb",
   "metadata": {},
   "outputs": [],
   "source": []
  },
  {
   "cell_type": "code",
   "execution_count": null,
   "id": "6cb26779-8478-4059-9649-e180dbfb2cf6",
   "metadata": {},
   "outputs": [],
   "source": []
  }
 ],
 "metadata": {
  "kernelspec": {
   "display_name": "Python 3 (ipykernel)",
   "language": "python",
   "name": "python3"
  },
  "language_info": {
   "codemirror_mode": {
    "name": "ipython",
    "version": 3
   },
   "file_extension": ".py",
   "mimetype": "text/x-python",
   "name": "python",
   "nbconvert_exporter": "python",
   "pygments_lexer": "ipython3",
   "version": "3.10.11"
  }
 },
 "nbformat": 4,
 "nbformat_minor": 5
}
