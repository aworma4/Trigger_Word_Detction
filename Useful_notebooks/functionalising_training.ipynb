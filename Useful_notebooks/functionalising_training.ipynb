{
 "cells": [
  {
   "cell_type": "markdown",
   "id": "476d40e6-cc26-4113-97bf-d38ebc8de1c4",
   "metadata": {
    "tags": []
   },
   "source": [
    "# Start\n",
    "Not using comet.ai or w&b - because they require a sign up\n",
    "Will use mlflow  - as I already have code for it. \n",
    "\n",
    "\n",
    "### Use code from:\n",
    "https://learn.microsoft.com/en-us/azure/databricks/_extras/notebooks/source/mlflow/mlflow-pytorch-training.html\n",
    "\n",
    "Note the AI speech recognition code doesn't add much:\n",
    "https://www.assemblyai.com/blog/end-to-end-speech-recognition-pytorch/"
   ]
  },
  {
   "cell_type": "markdown",
   "id": "35ad33da-15d3-4a3d-ab50-e78028787ae5",
   "metadata": {},
   "source": [
    "Maybe I just need to add:\n",
    "device agnostic code\n",
    "early stopping condition\n",
    "Other metrics (precision, recall, f1)\n",
    "\n",
    "Then use the mlflow + tensor board code. \n"
   ]
  },
  {
   "cell_type": "code",
   "execution_count": 5,
   "id": "d231f5e0-09fb-41e5-93ee-e798b0916960",
   "metadata": {
    "tags": []
   },
   "outputs": [],
   "source": [
    "#to launch the experiments server \n",
    "\n",
    "#!mlflow server   \n"
   ]
  },
  {
   "cell_type": "code",
   "execution_count": 4,
   "id": "e7743dcd-2661-488c-8a01-385ee0bf5555",
   "metadata": {
    "tags": []
   },
   "outputs": [],
   "source": [
    "import mlflow"
   ]
  },
  {
   "cell_type": "code",
   "execution_count": null,
   "id": "c63d2764-fea1-4199-a196-22227544d72a",
   "metadata": {},
   "outputs": [],
   "source": []
  }
 ],
 "metadata": {
  "kernelspec": {
   "display_name": "Python 3 (ipykernel)",
   "language": "python",
   "name": "python3"
  },
  "language_info": {
   "codemirror_mode": {
    "name": "ipython",
    "version": 3
   },
   "file_extension": ".py",
   "mimetype": "text/x-python",
   "name": "python",
   "nbconvert_exporter": "python",
   "pygments_lexer": "ipython3",
   "version": "3.10.11"
  }
 },
 "nbformat": 4,
 "nbformat_minor": 5
}
