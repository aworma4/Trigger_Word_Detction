{
 "cells": [
  {
   "cell_type": "markdown",
   "id": "476d40e6-cc26-4113-97bf-d38ebc8de1c4",
   "metadata": {
    "tags": []
   },
   "source": [
    "# Start\n",
    "Not using comet.ai or w&b - because they require a sign up\n",
    "Will use mlflow  - as I already have code for it. \n",
    "\n",
    "\n",
    "### Use code from:\n",
    "https://learn.microsoft.com/en-us/azure/databricks/_extras/notebooks/source/mlflow/mlflow-pytorch-training.html\n",
    "\n",
    "Note the AI speech recognition code doesn't add much:\n",
    "https://www.assemblyai.com/blog/end-to-end-speech-recognition-pytorch/"
   ]
  },
  {
   "cell_type": "markdown",
   "id": "35ad33da-15d3-4a3d-ab50-e78028787ae5",
   "metadata": {},
   "source": [
    "Maybe I just need to add:\n",
    "device agnostic code\n",
    "early stopping condition\n",
    "Other metrics (precision, recall, f1)\n",
    "\n",
    "Then use the mlflow + tensor board code. \n"
   ]
  },
  {
   "cell_type": "code",
   "execution_count": 1,
   "id": "051555fe-bd22-4312-9f09-39cf60ba638b",
   "metadata": {
    "tags": []
   },
   "outputs": [
    {
     "name": "stderr",
     "output_type": "stream",
     "text": [
      "C:\\Users\\AT030915\\AIG\\venv\\AIG_venv\\lib\\site-packages\\torchaudio\\functional\\functional.py:576: UserWarning: At least one mel filterbank has all zero values. The value for `n_mels` (151) may be set too high. Or, the value for `n_freqs` (201) may be set too low.\n",
      "  warnings.warn(\n"
     ]
    },
    {
     "name": "stdout",
     "output_type": "stream",
     "text": [
      "input shape: (1,151,801)\n",
      "----------------------------------------------------------------\n",
      "        Layer (type)               Output Shape         Param #\n",
      "================================================================\n",
      "            Conv1d-1               [-1, 1, 197]           2,266\n",
      "               GRU-2  [[-1, 1, 1375], [-1, 2, 1375]]               0\n",
      "            Linear-3              [-1, 1, 1375]       1,892,000\n",
      "           Sigmoid-4                 [-1, 1375]               0\n",
      "================================================================\n",
      "Total params: 1,894,266\n",
      "Trainable params: 1,894,266\n",
      "Non-trainable params: 0\n",
      "----------------------------------------------------------------\n",
      "Input size (MB): 0.46\n",
      "Forward/backward pass size (MB): 28.83\n",
      "Params size (MB): 7.23\n",
      "Estimated Total Size (MB): 36.51\n",
      "----------------------------------------------------------------\n"
     ]
    },
    {
     "name": "stderr",
     "output_type": "stream",
     "text": [
      "C:\\Users\\AT030915\\AIG\\venv\\AIG_venv\\lib\\site-packages\\torchaudio\\functional\\functional.py:576: UserWarning: At least one mel filterbank has all zero values. The value for `n_mels` (151) may be set too high. Or, the value for `n_freqs` (201) may be set too low.\n",
      "  warnings.warn(\n"
     ]
    },
    {
     "name": "stdout",
     "output_type": "stream",
     "text": [
      "Epoch [1] loss: 0.6411594748497009, learning rate [0.0004], training accuracy cutoff (0.8): 0.9456623792648315, average label 0.05433766171336174\n",
      "Epoch [2] loss: 0.4759998321533203, learning rate [0.00042291169451073987], training accuracy cutoff (0.8): 0.6273766160011292, average label 0.015480519272387028\n",
      "Epoch [3] loss: 0.34705406427383423, learning rate [0.0004458233890214797], training accuracy cutoff (0.8): 0.6273766160011292, average label 0.015480519272387028\n",
      "Epoch [4] loss: 0.7767381072044373, learning rate [0.0004687350835322196], training accuracy cutoff (0.8): 0.6273766160011292, average label 0.015480519272387028\n"
     ]
    },
    {
     "ename": "KeyboardInterrupt",
     "evalue": "",
     "output_type": "error",
     "traceback": [
      "\u001b[1;31m---------------------------------------------------------------------------\u001b[0m",
      "\u001b[1;31mKeyboardInterrupt\u001b[0m                         Traceback (most recent call last)",
      "File \u001b[1;32m~\\AIG\\train_func.py:332\u001b[0m\n\u001b[0;32m    329\u001b[0m     \u001b[38;5;28;01mfor\u001b[39;00m key, value \u001b[38;5;129;01min\u001b[39;00m \u001b[38;5;28mvars\u001b[39m(args)\u001b[38;5;241m.\u001b[39mitems():\n\u001b[0;32m    330\u001b[0m         mlflow\u001b[38;5;241m.\u001b[39mlog_param(key, value)\n\u001b[1;32m--> 332\u001b[0m     \u001b[43mmain\u001b[49m\u001b[43m(\u001b[49m\u001b[43m)\u001b[49m\n\u001b[0;32m    335\u001b[0m \u001b[38;5;66;03m#final test data output\u001b[39;00m\n\u001b[0;32m    336\u001b[0m test(\u001b[38;5;241m0\u001b[39m,test_data)\n",
      "File \u001b[1;32m~\\AIG\\train_func.py:302\u001b[0m, in \u001b[0;36mmain\u001b[1;34m()\u001b[0m\n\u001b[0;32m    298\u001b[0m N_trainloader \u001b[38;5;241m=\u001b[39m \u001b[38;5;28mlen\u001b[39m(train_data)\n\u001b[0;32m    300\u001b[0m \u001b[38;5;28;01mfor\u001b[39;00m epoch \u001b[38;5;129;01min\u001b[39;00m \u001b[38;5;28mrange\u001b[39m(args\u001b[38;5;241m.\u001b[39mepochs):  \u001b[38;5;66;03m# loop over the dataset multiple times\u001b[39;00m\n\u001b[1;32m--> 302\u001b[0m     \u001b[43mtrain\u001b[49m\u001b[43m(\u001b[49m\u001b[43mepoch\u001b[49m\u001b[43m,\u001b[49m\u001b[43mN_trainloader\u001b[49m\u001b[43m)\u001b[49m\n\u001b[0;32m    303\u001b[0m     \u001b[38;5;66;03m#test(epoch,test_data)\u001b[39;00m\n\u001b[0;32m    308\u001b[0m scheduler\u001b[38;5;241m.\u001b[39mstep()\n",
      "File \u001b[1;32m~\\AIG\\train_func.py:224\u001b[0m, in \u001b[0;36mtrain\u001b[1;34m(epoch, N_trainloader)\u001b[0m\n\u001b[0;32m    220\u001b[0m     \u001b[38;5;28;01mbreak\u001b[39;00m\n\u001b[0;32m    223\u001b[0m loss\u001b[38;5;241m.\u001b[39mbackward()\n\u001b[1;32m--> 224\u001b[0m \u001b[43moptimizer\u001b[49m\u001b[38;5;241;43m.\u001b[39;49m\u001b[43mstep\u001b[49m\u001b[43m(\u001b[49m\u001b[43m)\u001b[49m\n\u001b[0;32m    226\u001b[0m \u001b[38;5;66;03m# print statistics\u001b[39;00m\n\u001b[0;32m    227\u001b[0m running_loss \u001b[38;5;241m+\u001b[39m\u001b[38;5;241m=\u001b[39m loss\u001b[38;5;241m.\u001b[39mitem()\n",
      "File \u001b[1;32m~\\AIG\\venv\\AIG_venv\\lib\\site-packages\\torch\\optim\\lr_scheduler.py:69\u001b[0m, in \u001b[0;36mLRScheduler.__init__.<locals>.with_counter.<locals>.wrapper\u001b[1;34m(*args, **kwargs)\u001b[0m\n\u001b[0;32m     67\u001b[0m instance\u001b[38;5;241m.\u001b[39m_step_count \u001b[38;5;241m+\u001b[39m\u001b[38;5;241m=\u001b[39m \u001b[38;5;241m1\u001b[39m\n\u001b[0;32m     68\u001b[0m wrapped \u001b[38;5;241m=\u001b[39m func\u001b[38;5;241m.\u001b[39m\u001b[38;5;21m__get__\u001b[39m(instance, \u001b[38;5;28mcls\u001b[39m)\n\u001b[1;32m---> 69\u001b[0m \u001b[38;5;28;01mreturn\u001b[39;00m wrapped(\u001b[38;5;241m*\u001b[39margs, \u001b[38;5;241m*\u001b[39m\u001b[38;5;241m*\u001b[39mkwargs)\n",
      "File \u001b[1;32m~\\AIG\\venv\\AIG_venv\\lib\\site-packages\\torch\\optim\\optimizer.py:280\u001b[0m, in \u001b[0;36mOptimizer.profile_hook_step.<locals>.wrapper\u001b[1;34m(*args, **kwargs)\u001b[0m\n\u001b[0;32m    276\u001b[0m         \u001b[38;5;28;01melse\u001b[39;00m:\n\u001b[0;32m    277\u001b[0m             \u001b[38;5;28;01mraise\u001b[39;00m \u001b[38;5;167;01mRuntimeError\u001b[39;00m(\u001b[38;5;124mf\u001b[39m\u001b[38;5;124m\"\u001b[39m\u001b[38;5;132;01m{\u001b[39;00mfunc\u001b[38;5;132;01m}\u001b[39;00m\u001b[38;5;124m must return None or a tuple of (new_args, new_kwargs),\u001b[39m\u001b[38;5;124m\"\u001b[39m\n\u001b[0;32m    278\u001b[0m                                \u001b[38;5;124mf\u001b[39m\u001b[38;5;124m\"\u001b[39m\u001b[38;5;124mbut got \u001b[39m\u001b[38;5;132;01m{\u001b[39;00mresult\u001b[38;5;132;01m}\u001b[39;00m\u001b[38;5;124m.\u001b[39m\u001b[38;5;124m\"\u001b[39m)\n\u001b[1;32m--> 280\u001b[0m out \u001b[38;5;241m=\u001b[39m func(\u001b[38;5;241m*\u001b[39margs, \u001b[38;5;241m*\u001b[39m\u001b[38;5;241m*\u001b[39mkwargs)\n\u001b[0;32m    281\u001b[0m \u001b[38;5;28mself\u001b[39m\u001b[38;5;241m.\u001b[39m_optimizer_step_code()\n\u001b[0;32m    283\u001b[0m \u001b[38;5;66;03m# call optimizer step post hooks\u001b[39;00m\n",
      "File \u001b[1;32m~\\AIG\\venv\\AIG_venv\\lib\\site-packages\\torch\\optim\\optimizer.py:33\u001b[0m, in \u001b[0;36m_use_grad_for_differentiable.<locals>._use_grad\u001b[1;34m(self, *args, **kwargs)\u001b[0m\n\u001b[0;32m     31\u001b[0m \u001b[38;5;28;01mtry\u001b[39;00m:\n\u001b[0;32m     32\u001b[0m     torch\u001b[38;5;241m.\u001b[39mset_grad_enabled(\u001b[38;5;28mself\u001b[39m\u001b[38;5;241m.\u001b[39mdefaults[\u001b[38;5;124m'\u001b[39m\u001b[38;5;124mdifferentiable\u001b[39m\u001b[38;5;124m'\u001b[39m])\n\u001b[1;32m---> 33\u001b[0m     ret \u001b[38;5;241m=\u001b[39m func(\u001b[38;5;28mself\u001b[39m, \u001b[38;5;241m*\u001b[39margs, \u001b[38;5;241m*\u001b[39m\u001b[38;5;241m*\u001b[39mkwargs)\n\u001b[0;32m     34\u001b[0m \u001b[38;5;28;01mfinally\u001b[39;00m:\n\u001b[0;32m     35\u001b[0m     torch\u001b[38;5;241m.\u001b[39mset_grad_enabled(prev_grad)\n",
      "File \u001b[1;32m~\\AIG\\venv\\AIG_venv\\lib\\site-packages\\torch\\optim\\adamw.py:171\u001b[0m, in \u001b[0;36mAdamW.step\u001b[1;34m(self, closure)\u001b[0m\n\u001b[0;32m    158\u001b[0m     beta1, beta2 \u001b[38;5;241m=\u001b[39m group[\u001b[38;5;124m\"\u001b[39m\u001b[38;5;124mbetas\u001b[39m\u001b[38;5;124m\"\u001b[39m]\n\u001b[0;32m    160\u001b[0m     \u001b[38;5;28mself\u001b[39m\u001b[38;5;241m.\u001b[39m_init_group(\n\u001b[0;32m    161\u001b[0m         group,\n\u001b[0;32m    162\u001b[0m         params_with_grad,\n\u001b[1;32m   (...)\u001b[0m\n\u001b[0;32m    168\u001b[0m         state_steps,\n\u001b[0;32m    169\u001b[0m     )\n\u001b[1;32m--> 171\u001b[0m     \u001b[43madamw\u001b[49m\u001b[43m(\u001b[49m\n\u001b[0;32m    172\u001b[0m \u001b[43m        \u001b[49m\u001b[43mparams_with_grad\u001b[49m\u001b[43m,\u001b[49m\n\u001b[0;32m    173\u001b[0m \u001b[43m        \u001b[49m\u001b[43mgrads\u001b[49m\u001b[43m,\u001b[49m\n\u001b[0;32m    174\u001b[0m \u001b[43m        \u001b[49m\u001b[43mexp_avgs\u001b[49m\u001b[43m,\u001b[49m\n\u001b[0;32m    175\u001b[0m \u001b[43m        \u001b[49m\u001b[43mexp_avg_sqs\u001b[49m\u001b[43m,\u001b[49m\n\u001b[0;32m    176\u001b[0m \u001b[43m        \u001b[49m\u001b[43mmax_exp_avg_sqs\u001b[49m\u001b[43m,\u001b[49m\n\u001b[0;32m    177\u001b[0m \u001b[43m        \u001b[49m\u001b[43mstate_steps\u001b[49m\u001b[43m,\u001b[49m\n\u001b[0;32m    178\u001b[0m \u001b[43m        \u001b[49m\u001b[43mamsgrad\u001b[49m\u001b[38;5;241;43m=\u001b[39;49m\u001b[43mamsgrad\u001b[49m\u001b[43m,\u001b[49m\n\u001b[0;32m    179\u001b[0m \u001b[43m        \u001b[49m\u001b[43mbeta1\u001b[49m\u001b[38;5;241;43m=\u001b[39;49m\u001b[43mbeta1\u001b[49m\u001b[43m,\u001b[49m\n\u001b[0;32m    180\u001b[0m \u001b[43m        \u001b[49m\u001b[43mbeta2\u001b[49m\u001b[38;5;241;43m=\u001b[39;49m\u001b[43mbeta2\u001b[49m\u001b[43m,\u001b[49m\n\u001b[0;32m    181\u001b[0m \u001b[43m        \u001b[49m\u001b[43mlr\u001b[49m\u001b[38;5;241;43m=\u001b[39;49m\u001b[43mgroup\u001b[49m\u001b[43m[\u001b[49m\u001b[38;5;124;43m\"\u001b[39;49m\u001b[38;5;124;43mlr\u001b[39;49m\u001b[38;5;124;43m\"\u001b[39;49m\u001b[43m]\u001b[49m\u001b[43m,\u001b[49m\n\u001b[0;32m    182\u001b[0m \u001b[43m        \u001b[49m\u001b[43mweight_decay\u001b[49m\u001b[38;5;241;43m=\u001b[39;49m\u001b[43mgroup\u001b[49m\u001b[43m[\u001b[49m\u001b[38;5;124;43m\"\u001b[39;49m\u001b[38;5;124;43mweight_decay\u001b[39;49m\u001b[38;5;124;43m\"\u001b[39;49m\u001b[43m]\u001b[49m\u001b[43m,\u001b[49m\n\u001b[0;32m    183\u001b[0m \u001b[43m        \u001b[49m\u001b[43meps\u001b[49m\u001b[38;5;241;43m=\u001b[39;49m\u001b[43mgroup\u001b[49m\u001b[43m[\u001b[49m\u001b[38;5;124;43m\"\u001b[39;49m\u001b[38;5;124;43meps\u001b[39;49m\u001b[38;5;124;43m\"\u001b[39;49m\u001b[43m]\u001b[49m\u001b[43m,\u001b[49m\n\u001b[0;32m    184\u001b[0m \u001b[43m        \u001b[49m\u001b[43mmaximize\u001b[49m\u001b[38;5;241;43m=\u001b[39;49m\u001b[43mgroup\u001b[49m\u001b[43m[\u001b[49m\u001b[38;5;124;43m\"\u001b[39;49m\u001b[38;5;124;43mmaximize\u001b[39;49m\u001b[38;5;124;43m\"\u001b[39;49m\u001b[43m]\u001b[49m\u001b[43m,\u001b[49m\n\u001b[0;32m    185\u001b[0m \u001b[43m        \u001b[49m\u001b[43mforeach\u001b[49m\u001b[38;5;241;43m=\u001b[39;49m\u001b[43mgroup\u001b[49m\u001b[43m[\u001b[49m\u001b[38;5;124;43m\"\u001b[39;49m\u001b[38;5;124;43mforeach\u001b[39;49m\u001b[38;5;124;43m\"\u001b[39;49m\u001b[43m]\u001b[49m\u001b[43m,\u001b[49m\n\u001b[0;32m    186\u001b[0m \u001b[43m        \u001b[49m\u001b[43mcapturable\u001b[49m\u001b[38;5;241;43m=\u001b[39;49m\u001b[43mgroup\u001b[49m\u001b[43m[\u001b[49m\u001b[38;5;124;43m\"\u001b[39;49m\u001b[38;5;124;43mcapturable\u001b[39;49m\u001b[38;5;124;43m\"\u001b[39;49m\u001b[43m]\u001b[49m\u001b[43m,\u001b[49m\n\u001b[0;32m    187\u001b[0m \u001b[43m        \u001b[49m\u001b[43mdifferentiable\u001b[49m\u001b[38;5;241;43m=\u001b[39;49m\u001b[43mgroup\u001b[49m\u001b[43m[\u001b[49m\u001b[38;5;124;43m\"\u001b[39;49m\u001b[38;5;124;43mdifferentiable\u001b[39;49m\u001b[38;5;124;43m\"\u001b[39;49m\u001b[43m]\u001b[49m\u001b[43m,\u001b[49m\n\u001b[0;32m    188\u001b[0m \u001b[43m        \u001b[49m\u001b[43mfused\u001b[49m\u001b[38;5;241;43m=\u001b[39;49m\u001b[43mgroup\u001b[49m\u001b[43m[\u001b[49m\u001b[38;5;124;43m\"\u001b[39;49m\u001b[38;5;124;43mfused\u001b[39;49m\u001b[38;5;124;43m\"\u001b[39;49m\u001b[43m]\u001b[49m\u001b[43m,\u001b[49m\n\u001b[0;32m    189\u001b[0m \u001b[43m        \u001b[49m\u001b[43mgrad_scale\u001b[49m\u001b[38;5;241;43m=\u001b[39;49m\u001b[38;5;28;43mgetattr\u001b[39;49m\u001b[43m(\u001b[49m\u001b[38;5;28;43mself\u001b[39;49m\u001b[43m,\u001b[49m\u001b[43m \u001b[49m\u001b[38;5;124;43m\"\u001b[39;49m\u001b[38;5;124;43mgrad_scale\u001b[39;49m\u001b[38;5;124;43m\"\u001b[39;49m\u001b[43m,\u001b[49m\u001b[43m \u001b[49m\u001b[38;5;28;43;01mNone\u001b[39;49;00m\u001b[43m)\u001b[49m\u001b[43m,\u001b[49m\n\u001b[0;32m    190\u001b[0m \u001b[43m        \u001b[49m\u001b[43mfound_inf\u001b[49m\u001b[38;5;241;43m=\u001b[39;49m\u001b[38;5;28;43mgetattr\u001b[39;49m\u001b[43m(\u001b[49m\u001b[38;5;28;43mself\u001b[39;49m\u001b[43m,\u001b[49m\u001b[43m \u001b[49m\u001b[38;5;124;43m\"\u001b[39;49m\u001b[38;5;124;43mfound_inf\u001b[39;49m\u001b[38;5;124;43m\"\u001b[39;49m\u001b[43m,\u001b[49m\u001b[43m \u001b[49m\u001b[38;5;28;43;01mNone\u001b[39;49;00m\u001b[43m)\u001b[49m\u001b[43m,\u001b[49m\n\u001b[0;32m    191\u001b[0m \u001b[43m    \u001b[49m\u001b[43m)\u001b[49m\n\u001b[0;32m    193\u001b[0m \u001b[38;5;28;01mreturn\u001b[39;00m loss\n",
      "File \u001b[1;32m~\\AIG\\venv\\AIG_venv\\lib\\site-packages\\torch\\optim\\adamw.py:321\u001b[0m, in \u001b[0;36madamw\u001b[1;34m(params, grads, exp_avgs, exp_avg_sqs, max_exp_avg_sqs, state_steps, foreach, capturable, differentiable, fused, grad_scale, found_inf, amsgrad, beta1, beta2, lr, weight_decay, eps, maximize)\u001b[0m\n\u001b[0;32m    318\u001b[0m \u001b[38;5;28;01melse\u001b[39;00m:\n\u001b[0;32m    319\u001b[0m     func \u001b[38;5;241m=\u001b[39m _single_tensor_adamw\n\u001b[1;32m--> 321\u001b[0m \u001b[43mfunc\u001b[49m\u001b[43m(\u001b[49m\n\u001b[0;32m    322\u001b[0m \u001b[43m    \u001b[49m\u001b[43mparams\u001b[49m\u001b[43m,\u001b[49m\n\u001b[0;32m    323\u001b[0m \u001b[43m    \u001b[49m\u001b[43mgrads\u001b[49m\u001b[43m,\u001b[49m\n\u001b[0;32m    324\u001b[0m \u001b[43m    \u001b[49m\u001b[43mexp_avgs\u001b[49m\u001b[43m,\u001b[49m\n\u001b[0;32m    325\u001b[0m \u001b[43m    \u001b[49m\u001b[43mexp_avg_sqs\u001b[49m\u001b[43m,\u001b[49m\n\u001b[0;32m    326\u001b[0m \u001b[43m    \u001b[49m\u001b[43mmax_exp_avg_sqs\u001b[49m\u001b[43m,\u001b[49m\n\u001b[0;32m    327\u001b[0m \u001b[43m    \u001b[49m\u001b[43mstate_steps\u001b[49m\u001b[43m,\u001b[49m\n\u001b[0;32m    328\u001b[0m \u001b[43m    \u001b[49m\u001b[43mamsgrad\u001b[49m\u001b[38;5;241;43m=\u001b[39;49m\u001b[43mamsgrad\u001b[49m\u001b[43m,\u001b[49m\n\u001b[0;32m    329\u001b[0m \u001b[43m    \u001b[49m\u001b[43mbeta1\u001b[49m\u001b[38;5;241;43m=\u001b[39;49m\u001b[43mbeta1\u001b[49m\u001b[43m,\u001b[49m\n\u001b[0;32m    330\u001b[0m \u001b[43m    \u001b[49m\u001b[43mbeta2\u001b[49m\u001b[38;5;241;43m=\u001b[39;49m\u001b[43mbeta2\u001b[49m\u001b[43m,\u001b[49m\n\u001b[0;32m    331\u001b[0m \u001b[43m    \u001b[49m\u001b[43mlr\u001b[49m\u001b[38;5;241;43m=\u001b[39;49m\u001b[43mlr\u001b[49m\u001b[43m,\u001b[49m\n\u001b[0;32m    332\u001b[0m \u001b[43m    \u001b[49m\u001b[43mweight_decay\u001b[49m\u001b[38;5;241;43m=\u001b[39;49m\u001b[43mweight_decay\u001b[49m\u001b[43m,\u001b[49m\n\u001b[0;32m    333\u001b[0m \u001b[43m    \u001b[49m\u001b[43meps\u001b[49m\u001b[38;5;241;43m=\u001b[39;49m\u001b[43meps\u001b[49m\u001b[43m,\u001b[49m\n\u001b[0;32m    334\u001b[0m \u001b[43m    \u001b[49m\u001b[43mmaximize\u001b[49m\u001b[38;5;241;43m=\u001b[39;49m\u001b[43mmaximize\u001b[49m\u001b[43m,\u001b[49m\n\u001b[0;32m    335\u001b[0m \u001b[43m    \u001b[49m\u001b[43mcapturable\u001b[49m\u001b[38;5;241;43m=\u001b[39;49m\u001b[43mcapturable\u001b[49m\u001b[43m,\u001b[49m\n\u001b[0;32m    336\u001b[0m \u001b[43m    \u001b[49m\u001b[43mdifferentiable\u001b[49m\u001b[38;5;241;43m=\u001b[39;49m\u001b[43mdifferentiable\u001b[49m\u001b[43m,\u001b[49m\n\u001b[0;32m    337\u001b[0m \u001b[43m    \u001b[49m\u001b[43mgrad_scale\u001b[49m\u001b[38;5;241;43m=\u001b[39;49m\u001b[43mgrad_scale\u001b[49m\u001b[43m,\u001b[49m\n\u001b[0;32m    338\u001b[0m \u001b[43m    \u001b[49m\u001b[43mfound_inf\u001b[49m\u001b[38;5;241;43m=\u001b[39;49m\u001b[43mfound_inf\u001b[49m\u001b[43m,\u001b[49m\n\u001b[0;32m    339\u001b[0m \u001b[43m\u001b[49m\u001b[43m)\u001b[49m\n",
      "File \u001b[1;32m~\\AIG\\venv\\AIG_venv\\lib\\site-packages\\torch\\optim\\adamw.py:440\u001b[0m, in \u001b[0;36m_single_tensor_adamw\u001b[1;34m(params, grads, exp_avgs, exp_avg_sqs, max_exp_avg_sqs, state_steps, grad_scale, found_inf, amsgrad, beta1, beta2, lr, weight_decay, eps, maximize, capturable, differentiable)\u001b[0m\n\u001b[0;32m    438\u001b[0m     denom \u001b[38;5;241m=\u001b[39m (max_exp_avg_sqs[i]\u001b[38;5;241m.\u001b[39msqrt() \u001b[38;5;241m/\u001b[39m bias_correction2_sqrt)\u001b[38;5;241m.\u001b[39madd_(eps)\n\u001b[0;32m    439\u001b[0m \u001b[38;5;28;01melse\u001b[39;00m:\n\u001b[1;32m--> 440\u001b[0m     denom \u001b[38;5;241m=\u001b[39m (\u001b[43mexp_avg_sq\u001b[49m\u001b[38;5;241;43m.\u001b[39;49m\u001b[43msqrt\u001b[49m\u001b[43m(\u001b[49m\u001b[43m)\u001b[49m \u001b[38;5;241m/\u001b[39m bias_correction2_sqrt)\u001b[38;5;241m.\u001b[39madd_(eps)\n\u001b[0;32m    442\u001b[0m param\u001b[38;5;241m.\u001b[39maddcdiv_(exp_avg, denom, value\u001b[38;5;241m=\u001b[39m\u001b[38;5;241m-\u001b[39mstep_size)\n",
      "\u001b[1;31mKeyboardInterrupt\u001b[0m: "
     ]
    }
   ],
   "source": [
    "%run train_func.py"
   ]
  },
  {
   "cell_type": "code",
   "execution_count": 1,
   "id": "d231f5e0-09fb-41e5-93ee-e798b0916960",
   "metadata": {
    "tags": []
   },
   "outputs": [],
   "source": [
    "#to launch the experiments server \n",
    "\n",
    "#!mlflow server   \n"
   ]
  },
  {
   "cell_type": "markdown",
   "id": "d1f1e4d1-e906-4de3-b66a-17d91bbbf6cd",
   "metadata": {
    "tags": []
   },
   "source": [
    "# Load Model + Create weights logger "
   ]
  },
  {
   "cell_type": "code",
   "execution_count": 2,
   "id": "c63d2764-fea1-4199-a196-22227544d72a",
   "metadata": {},
   "outputs": [
    {
     "data": {
      "text/plain": [
       "TriggerWord_LSTM(\n",
       "  (Conv): Conv1d(151, 1, kernel_size=(15,), stride=(4,))\n",
       "  (GRU): GRU(197, 1375, num_layers=2, batch_first=True, dropout=0.8)\n",
       "  (Dense): Linear(in_features=1375, out_features=1375, bias=True)\n",
       "  (Sigmoid): Sigmoid()\n",
       ")"
      ]
     },
     "execution_count": 2,
     "metadata": {},
     "output_type": "execute_result"
    }
   ],
   "source": [
    "import torch\n",
    "from model import * #need to load in class\n",
    "\n",
    "model_filepath = 'Saved_models/model_test_mel_100_epochs'\n",
    "model = torch.load(model_filepath)\n",
    "\n",
    "model"
   ]
  },
  {
   "cell_type": "code",
   "execution_count": 3,
   "id": "183d3dc1-472d-4b6f-bc11-638a1041f2e3",
   "metadata": {
    "tags": []
   },
   "outputs": [],
   "source": [
    "def log_weights(model,step):\n",
    "    '''\n",
    "    GRU - need to use all weight which returns a (2,4) list of weights\n",
    "    - biases need to type in bias_hh_l0 (there a 10,01,00,11 - not worth adding to this\n",
    "    '''\n",
    "    \n",
    "    writer.add_summary(histogram('weights/Conv/weight', model.Conv.weight.data).eval(), step)\n",
    "    writer.add_summary(histogram('weights/Conv/bias'  , model.Conv.bias.data).eval(), step)\n",
    "\n",
    "    # NO GRU W  + B added \n",
    "\n",
    "    writer.add_summary(histogram('weights/Dense/weight', model.Dense.weight.data).eval(), step)\n",
    "    writer.add_summary(histogram('weights/Dense/weight', model.Dense.weight.data).eval(), step)    \n"
   ]
  },
  {
   "cell_type": "markdown",
   "id": "404ba1aa-3cea-497d-9410-907d7a48ea03",
   "metadata": {
    "tags": []
   },
   "source": [
    "# Modules + hyperparameters set "
   ]
  },
  {
   "cell_type": "code",
   "execution_count": 4,
   "id": "d5adfb00-fca8-4e1d-9954-4754a1f787c5",
   "metadata": {
    "tags": []
   },
   "outputs": [],
   "source": [
    "import torch\n",
    "#hyper parameters \n",
    "import torch.optim as optim\n",
    "from model import get_accuracy\n",
    "from model import *\n",
    "from data_loading import resize_label\n",
    "from data_loading import *\n",
    "from torch.utils.data import DataLoader\n",
    "from torchsummary import summary\n",
    "import numpy as np\n",
    "\n",
    "\n",
    "# Create Params dictionary\n",
    "\n",
    "class Params(object):\n",
    "\n",
    "    def __init__(self, batch_size, test_batch_size, number_frequencies, number_time_steps, epochs, lr, seed, cuda, log_interval,early_stopper_patience,early_stopper_min_delta, label_time,cutoff):\n",
    "        '''\n",
    "        Names self explanatory - seed = Random seed number, log_interval - the intervals at which the weights and biases will be recorded \n",
    "        '''\n",
    "\n",
    "        self.batch_size = batch_size\n",
    "\n",
    "        self.test_batch_size = test_batch_size\n",
    "\n",
    "        self.epochs = epochs\n",
    "\n",
    "        self.lr = lr\n",
    "        \n",
    "        self.number_frequencies = number_frequencies\n",
    "        \n",
    "        self.number_time_steps = number_time_steps\n",
    "        \n",
    "\n",
    "        self.seed = seed\n",
    "\n",
    "        self.cuda = cuda\n",
    "\n",
    "        self.log_interval = log_interval\n",
    "\n",
    "        self.early_stopper_patience = early_stopper_patience\n",
    "        \n",
    "        self.early_stopper_min_delta = early_stopper_min_delta\n",
    "        \n",
    "        self.label_time = label_time\n",
    "        \n",
    "        self.cutoff = cutoff"
   ]
  },
  {
   "cell_type": "code",
   "execution_count": 5,
   "id": "62e8d6b1-19fc-47b5-b173-a10d6b06b5bc",
   "metadata": {
    "tags": []
   },
   "outputs": [],
   "source": [
    "# modules needed from: https://learn.microsoft.com/en-us/azure/databricks/_extras/notebooks/source/mlflow/mlflow-pytorch-training.html\n",
    "from __future__ import print_function\n",
    "\n",
    "import os\n",
    "\n",
    "import tempfile\n",
    "\n",
    "import torch\n",
    "\n",
    "import torch.nn as nn\n",
    "\n",
    "import torch.nn.functional as F\n",
    "\n",
    "import torch.optim as optim\n",
    "\n",
    "from torch.autograd import Variable\n",
    "\n",
    "from tensorboardX import SummaryWriter\n",
    "\n",
    "from collections import namedtuple\n",
    "\n",
    "import tensorflow as tf\n",
    "\n",
    "import tensorflow.summary\n",
    "\n",
    "from tensorflow.summary import scalar\n",
    "\n",
    "from tensorflow.summary import histogram\n",
    "\n",
    "#from chardet.universaldetector import UniversalDetector"
   ]
  },
  {
   "cell_type": "code",
   "execution_count": 22,
   "id": "2cb16f0d-c4f9-4f8e-bd29-a63edc16da44",
   "metadata": {
    "tags": []
   },
   "outputs": [],
   "source": [
    "args =Params(batch_size = 4, test_batch_size = 4,\n",
    "             number_frequencies = 151,\n",
    "             number_time_steps = 400,\n",
    "             epochs = 100, lr =0.01, \n",
    "             seed = 1, cuda = False, \n",
    "             log_interval = 200,\n",
    "             early_stopper_patience = 3,\n",
    "             early_stopper_min_delta=0.01,\n",
    "             label_time = 1375,\n",
    "            cutoff =0.8) #enter zero then label_time (shape of output of output of nerual network will be equal to the size of the input spectrogram)),\n",
    "\n",
    "cuda = not args.cuda and torch.cuda.is_available()\n",
    "device = get_default_device() #not sure if I'm going to use this \n",
    "kwargs = {'num_workers': 1, 'pin_memory': True} if cuda else {}"
   ]
  },
  {
   "cell_type": "markdown",
   "id": "bef302b7-014e-4180-af49-332b27ecb42f",
   "metadata": {
    "tags": []
   },
   "source": [
    "#  Load data"
   ]
  },
  {
   "cell_type": "code",
   "execution_count": 23,
   "id": "53418ef4-124d-4e30-abb8-16eb8862767b",
   "metadata": {
    "tags": []
   },
   "outputs": [],
   "source": [
    "#### Load data \n",
    "\n",
    "test_waveform = ReadData_Mel('test',spectrogram_str=False)\n",
    "test_data = ReadData_Mel('test',spectrogram_str=True, normalize = True, mask_str = False, number_frequencies = args.number_frequencies,number_time_steps = args.number_time_steps, t_l = 100, f_l = 2)\n",
    "#ReadData('test',spectrogram_str='True',number_frequencies = spec_freq,number_time_steps = spec_time)\n",
    "train_data = ReadData_Mel('train',spectrogram_str=True, normalize = True, mask_str = False, number_frequencies = args.number_frequencies,number_time_steps = args.number_time_steps, t_l = 100, f_l = 2)\n",
    "#ReadData('train',spectrogram_str='True',number_frequencies = spec_freq,number_time_steps = spec_time)\n",
    "\n",
    "train_loader = DataLoader(train_data, args.batch_size, shuffle=False)\n",
    "test_loader = DataLoader(test_data, args.batch_size, shuffle=False)\n",
    "\n",
    "\n",
    "\n",
    "\n"
   ]
  },
  {
   "cell_type": "code",
   "execution_count": 24,
   "id": "58a97b36-9b29-4977-aee1-4ad71c5d8e9f",
   "metadata": {
    "tags": []
   },
   "outputs": [
    {
     "name": "stdout",
     "output_type": "stream",
     "text": [
      "input shape: (1,151,801)\n",
      "----------------------------------------------------------------\n",
      "        Layer (type)               Output Shape         Param #\n",
      "================================================================\n",
      "            Conv1d-1               [-1, 1, 197]           2,266\n",
      "               GRU-2  [[-1, 1, 1375], [-1, 2, 1375]]               0\n",
      "            Linear-3              [-1, 1, 1375]       1,892,000\n",
      "           Sigmoid-4                 [-1, 1375]               0\n",
      "================================================================\n",
      "Total params: 1,894,266\n",
      "Trainable params: 1,894,266\n",
      "Non-trainable params: 0\n",
      "----------------------------------------------------------------\n",
      "Input size (MB): 0.46\n",
      "Forward/backward pass size (MB): 28.83\n",
      "Params size (MB): 7.23\n",
      "Estimated Total Size (MB): 36.51\n",
      "----------------------------------------------------------------\n"
     ]
    }
   ],
   "source": [
    "#### Initialise model\n",
    "\n",
    "# import the model and initialise \n",
    "#load in to know the size of the spectrogram - the fft does quite give you a spec_time length for the time dimension\n",
    "spec_wave = test_data[-1][0]\n",
    "spec_label = test_data[-1][1]\n",
    "\n",
    "\n",
    "\n",
    "input_freq =spec_wave.shape[1]\n",
    "input_time = spec_wave.shape[2]\n",
    "\n",
    "output_time = args.label_time\n",
    "if output_time ==0:\n",
    "    output_time = input_time\n",
    "\n",
    "\n",
    "hidden_time = output_time #could change this down the line \n",
    "\n",
    "\n",
    "model =TriggerWord_LSTM(input_freq, input_time , hidden_time, output_time, Conv_p(),GRU_p())\n",
    " \n",
    "#torch.load('model_test_28_04_23_100_epochs')\n",
    "#TriggerWord_LSTM(input_freq, input_time , hidden_time, output_time, Conv_p(),GRU_p())\n",
    "#SimpleRNN(time = input_time,dropout_rate=0.5)\n",
    "\n",
    "#model.Conv\n",
    "print(f\"input shape: (1,{input_freq},{input_time})\")  \n",
    "summary(model, (input_freq,input_time))     "
   ]
  },
  {
   "cell_type": "code",
   "execution_count": 25,
   "id": "6db6b9d7-791e-4aa7-839a-7491aa90d2b4",
   "metadata": {
    "tags": []
   },
   "outputs": [],
   "source": [
    "#create early stopper class\n",
    "#I'll be using training instead of validation loss \n",
    "#https://stackoverflow.com/questions/71998978/early-stopping-in-pytorch\n",
    "class EarlyStopper:\n",
    "    def __init__(self, patience=1, min_delta=0):\n",
    "        self.patience = patience\n",
    "        self.min_delta = min_delta\n",
    "        self.counter = 0\n",
    "        self.min_validation_loss = np.inf\n",
    "\n",
    "    def early_stop(self, validation_loss):\n",
    "        if validation_loss < self.min_validation_loss:\n",
    "            self.min_validation_loss = validation_loss\n",
    "            self.counter = 0\n",
    "        elif validation_loss > (self.min_validation_loss + self.min_delta):\n",
    "            self.counter += 1\n",
    "            if self.counter >= self.patience:\n",
    "                return True\n",
    "        return False\n"
   ]
  },
  {
   "cell_type": "code",
   "execution_count": 26,
   "id": "2b1f9826-9729-4760-bd43-3c7ff62092c2",
   "metadata": {
    "tags": []
   },
   "outputs": [],
   "source": [
    "#### Choose optimizers,scheduler, loss, and early stopping condtion\n",
    "criterion = torch.nn.BCELoss()\n",
    "\n",
    "#alternate optmizer + scheduler - from guidance from https://www.assemblyai.com/blog/end-to-end-speech-recognition-pytorch/\n",
    "optimizer = optim.AdamW(model.parameters(), args.lr)\n",
    "\n",
    "scheduler = optim.lr_scheduler.OneCycleLR(optimizer,\n",
    "\tmax_lr=args.lr,\n",
    "\tsteps_per_epoch=int(len(train_data)),\n",
    "\tepochs=args.epochs,\n",
    "\tanneal_strategy='linear')\n",
    "\n",
    "early_stopper = EarlyStopper(patience=args.early_stopper_patience, min_delta=args.early_stopper_min_delta)\n"
   ]
  },
  {
   "cell_type": "markdown",
   "id": "50c50eea-29c2-4dcf-99b8-59d821d8f4ea",
   "metadata": {},
   "source": [
    "# Create main training functions"
   ]
  },
  {
   "cell_type": "code",
   "execution_count": 27,
   "id": "c29c5cbc-d0b9-4b9b-a974-109edb62ddb6",
   "metadata": {
    "tags": []
   },
   "outputs": [],
   "source": [
    "if cuda:\n",
    "    model.cuda()\n",
    "\n",
    "writer = None # Will be used to write TensorBoard events\n",
    "\n",
    "def log_scalar(name, value, step):\n",
    "\n",
    "    \"\"\"Log a scalar value to both MLflow and TensorBoard\"\"\"\n",
    "\n",
    "    #writer.add_summary(scalar(name, value).eval(), step)\n",
    "\n",
    "    mlflow.log_metric(name, value, step=step)"
   ]
  },
  {
   "cell_type": "code",
   "execution_count": 50,
   "id": "00b5838e-aa3d-4409-b2a0-72271654ffe5",
   "metadata": {
    "tags": []
   },
   "outputs": [],
   "source": [
    "\n",
    "def train(epoch,N_trainloader):\n",
    "    running_loss = 0.0\n",
    "    running_accuracy = 0.0\n",
    "    running_prec = 0.0\n",
    "    running_rec = 0.0\n",
    "    running_av_label = 0.0 \n",
    "    model.train()\n",
    "    for i, data in enumerate(train_data):\n",
    "        # get the inputs; data is a list of [inputs, labels]\n",
    "        inputs, labels_og = data\n",
    "        \n",
    "        labels =  resize_label(labels_og, args.label_time)\n",
    "        \n",
    "\n",
    "        # zero the parameter gradients\n",
    "        optimizer.zero_grad()\n",
    "\n",
    "        # forward + backward + optimize\n",
    "        outputs = model(inputs)\n",
    "        loss = criterion(outputs, labels)\n",
    "        \n",
    "        if early_stopper.early_stop(loss):             \n",
    "            break\n",
    "        \n",
    "        \n",
    "        loss.backward()\n",
    "        optimizer.step()\n",
    "\n",
    "        # print statistics\n",
    "        running_loss += loss.item()\n",
    "        running_accuracy += f_acc(outputs,labels)\n",
    "        #get_accuracy(labels, outputs,cutoff=args.cutoff)\n",
    "        running_prec += f_prec(outputs,labels)\n",
    "        running_rec  += f_rec(outputs,labels)\n",
    "        running_av_label += torch.mean(labels)\n",
    "        # if i % 4 == 3:    # print every 2000 mini-batches\n",
    "        #     print(f'[{epoch + 1}, {i + 1:5d}] loss: {running_loss / 2000:.7f}')\n",
    "        #     running_loss = 0.0\n",
    "    \n",
    "    lr_end = scheduler.get_last_lr()\n",
    "    acc = running_accuracy/N_trainloader\n",
    "    prec = running_prec/N_trainloader\n",
    "    rec = running_rec/N_trainloader\n",
    "    \n",
    "    mean_label = running_av_label/N_trainloader\n",
    "    \n",
    "    print(f'Epoch [{epoch + 1}] loss: {loss}, learning rate {lr_end}, training accuracy cutoff ({args.cutoff}): {acc}, average label {mean_label}')\n",
    "        \n",
    "    log_scalar('loss',loss,step=epoch)\n",
    "    log_scalar('lr',lr_end[0],step=epoch)\n",
    "    log_scalar('accuracy_with_cutoff',acc,step=epoch)\n",
    "    log_scalar('precision_with_cutoff',prec,step=epoch)\n",
    "    log_scalar('recall_with_cutoff',rec,step=epoch)    \n",
    "\n",
    "    log_scalar('mean_label',mean_label,step=epoch)\n",
    "    \n",
    "    scheduler.step()\n",
    "\n"
   ]
  },
  {
   "cell_type": "code",
   "execution_count": 51,
   "id": "4801ccba-81bb-4fc2-8e92-05570b772707",
   "metadata": {
    "tags": []
   },
   "outputs": [],
   "source": [
    "def test(epoch,test_data):\n",
    "    running_loss = 0.0\n",
    "    running_accuracy = 0.0\n",
    "    running_prec = 0.0\n",
    "    running_rec = 0.0\n",
    "    running_av_label = 0.0 \n",
    "    \n",
    "    model.eval()\n",
    "    \n",
    "    N_trainloader = len(test_data)\n",
    "\n",
    "\n",
    "    for i, data in enumerate(test_data):\n",
    "        # get the inputs; data is a list of [inputs, labels]\n",
    "        inputs, labels_og = data\n",
    "\n",
    "        labels =  resize_label(labels_og, args.label_time)\n",
    "\n",
    "        outputs = model(inputs)\n",
    "\n",
    "\n",
    "        running_accuracy += f_acc(outputs,labels)\n",
    "        #get_accuracy(labels, outputs,cutoff=args.cutoff)\n",
    "        running_prec += f_prec(outputs,labels)\n",
    "        running_rec  += f_rec(outputs,labels)\n",
    "        running_av_label += torch.mean(labels)\n",
    "\n",
    "    acc = running_accuracy/N_trainloader\n",
    "    prec = running_prec/N_trainloader\n",
    "    rec = running_rec/N_trainloader    \n",
    "    mean_label = running_av_label/N_trainloader\n",
    "    print(f'Test for Epoch [{epoch + 1}], accuracy  = {acc}, precision =  {prec}, recall =  {rec}, average label {mean_label}')\n",
    "\n",
    "    \n"
   ]
  },
  {
   "cell_type": "code",
   "execution_count": 52,
   "id": "5fa06c51-d838-4fb4-9ef1-7435ad354a37",
   "metadata": {
    "tags": []
   },
   "outputs": [],
   "source": [
    "def main():\n",
    "    N_trainloader = len(train_data)\n",
    "\n",
    "    for epoch in range(args.epochs):  # loop over the dataset multiple times\n",
    "        \n",
    "        train(epoch,N_trainloader)\n",
    "        test(epoch,test_data)\n",
    "\n",
    "    \n",
    "\n",
    "    \n",
    "    scheduler.step()    \n",
    "    "
   ]
  },
  {
   "cell_type": "code",
   "execution_count": 53,
   "id": "f001bed8-2a41-4407-8210-861b5b2f7227",
   "metadata": {
    "tags": []
   },
   "outputs": [
    {
     "name": "stdout",
     "output_type": "stream",
     "text": [
      "Epoch [1] loss: 0.03345305100083351, learning rate [0.0050281622911694515], training accuracy cutoff (0.8): 0.0, average label 0.0\n",
      "Test for Epoch [1], accuracy  = 0.9454545974731445, precision =  0.0, recall =  0.0, average label 0.05454545095562935\n",
      "Epoch [2] loss: 0.027715833857655525, learning rate [0.005051073985680192], training accuracy cutoff (0.8): 0.0, average label 0.0\n",
      "Test for Epoch [2], accuracy  = 0.9454545974731445, precision =  0.0, recall =  0.0, average label 0.05454545095562935\n",
      "Epoch [3] loss: 0.02552669122815132, learning rate [0.005073985680190932], training accuracy cutoff (0.8): 0.0, average label 0.0\n",
      "Test for Epoch [3], accuracy  = 0.9454545974731445, precision =  0.0, recall =  0.0, average label 0.05454545095562935\n",
      "Epoch [4] loss: 0.02394193410873413, learning rate [0.005096897374701671], training accuracy cutoff (0.8): 0.0, average label 0.0\n",
      "Test for Epoch [4], accuracy  = 0.9454545974731445, precision =  0.0, recall =  0.0, average label 0.05454545095562935\n",
      "Epoch [5] loss: 0.024029504507780075, learning rate [0.005119809069212411], training accuracy cutoff (0.8): 0.0, average label 0.0\n",
      "Test for Epoch [5], accuracy  = 0.9454545974731445, precision =  0.0, recall =  0.0, average label 0.05454545095562935\n",
      "Epoch [6] loss: 0.025923049077391624, learning rate [0.005142720763723151], training accuracy cutoff (0.8): 0.0, average label 0.0\n",
      "Test for Epoch [6], accuracy  = 0.9454545974731445, precision =  0.0, recall =  0.0, average label 0.05454545095562935\n",
      "Epoch [7] loss: 0.02578241564333439, learning rate [0.005165632458233891], training accuracy cutoff (0.8): 0.0, average label 0.0\n",
      "Test for Epoch [7], accuracy  = 0.9454545974731445, precision =  0.0, recall =  0.0, average label 0.05454545095562935\n",
      "Epoch [8] loss: 0.025968151167035103, learning rate [0.00518854415274463], training accuracy cutoff (0.8): 0.0, average label 0.0\n",
      "Test for Epoch [8], accuracy  = 0.9454545974731445, precision =  0.0, recall =  0.0, average label 0.05454545095562935\n",
      "Epoch [9] loss: 0.025842223316431046, learning rate [0.00521145584725537], training accuracy cutoff (0.8): 0.0, average label 0.0\n",
      "Test for Epoch [9], accuracy  = 0.9454545974731445, precision =  0.0, recall =  0.0, average label 0.05454545095562935\n",
      "Epoch [10] loss: 0.023298969492316246, learning rate [0.0052343675417661105], training accuracy cutoff (0.8): 0.0, average label 0.0\n",
      "Test for Epoch [10], accuracy  = 0.9454545974731445, precision =  0.0, recall =  0.0, average label 0.05454545095562935\n",
      "Epoch [11] loss: 0.024542270228266716, learning rate [0.00525727923627685], training accuracy cutoff (0.8): 0.0, average label 0.0\n",
      "Test for Epoch [11], accuracy  = 0.9454545974731445, precision =  0.0, recall =  0.0, average label 0.05454545095562935\n",
      "Epoch [12] loss: 0.024706484749913216, learning rate [0.00528019093078759], training accuracy cutoff (0.8): 0.0, average label 0.0\n",
      "Test for Epoch [12], accuracy  = 0.9454545974731445, precision =  0.0, recall =  0.0, average label 0.05454545095562935\n",
      "Epoch [13] loss: 0.025391481816768646, learning rate [0.005303102625298329], training accuracy cutoff (0.8): 0.0, average label 0.0\n",
      "Test for Epoch [13], accuracy  = 0.9454545974731445, precision =  0.0, recall =  0.0, average label 0.05454545095562935\n",
      "Epoch [14] loss: 0.024304721504449844, learning rate [0.005326014319809069], training accuracy cutoff (0.8): 0.0, average label 0.0\n",
      "Test for Epoch [14], accuracy  = 0.9454545974731445, precision =  0.0, recall =  0.0, average label 0.05454545095562935\n",
      "Epoch [15] loss: 0.023390591144561768, learning rate [0.0053489260143198105], training accuracy cutoff (0.8): 0.0, average label 0.0\n",
      "Test for Epoch [15], accuracy  = 0.9454545974731445, precision =  0.0, recall =  0.0, average label 0.05454545095562935\n",
      "Epoch [16] loss: 0.025081658735871315, learning rate [0.00537183770883055], training accuracy cutoff (0.8): 0.0, average label 0.0\n",
      "Test for Epoch [16], accuracy  = 0.9454545974731445, precision =  0.0, recall =  0.0, average label 0.05454545095562935\n",
      "Epoch [17] loss: 0.024486206471920013, learning rate [0.00539474940334129], training accuracy cutoff (0.8): 0.0, average label 0.0\n",
      "Test for Epoch [17], accuracy  = 0.9454545974731445, precision =  0.0, recall =  0.0, average label 0.05454545095562935\n",
      "Epoch [18] loss: 0.023463783785700798, learning rate [0.005417661097852029], training accuracy cutoff (0.8): 0.0, average label 0.0\n",
      "Test for Epoch [18], accuracy  = 0.9454545974731445, precision =  0.0, recall =  0.0, average label 0.05454545095562935\n",
      "Epoch [19] loss: 0.025843162089586258, learning rate [0.0054405727923627694], training accuracy cutoff (0.8): 0.0, average label 0.0\n",
      "Test for Epoch [19], accuracy  = 0.9454545974731445, precision =  0.0, recall =  0.0, average label 0.05454545095562935\n",
      "Epoch [20] loss: 0.02550439164042473, learning rate [0.005463484486873509], training accuracy cutoff (0.8): 0.0, average label 0.0\n",
      "Test for Epoch [20], accuracy  = 0.9454545974731445, precision =  0.0, recall =  0.0, average label 0.05454545095562935\n",
      "Epoch [21] loss: 0.03043067269027233, learning rate [0.005486396181384249], training accuracy cutoff (0.8): 0.0, average label 0.0\n",
      "Test for Epoch [21], accuracy  = 0.9454545974731445, precision =  0.0, recall =  0.0, average label 0.05454545095562935\n"
     ]
    },
    {
     "ename": "KeyboardInterrupt",
     "evalue": "",
     "output_type": "error",
     "traceback": [
      "\u001b[1;31m---------------------------------------------------------------------------\u001b[0m",
      "\u001b[1;31mKeyboardInterrupt\u001b[0m                         Traceback (most recent call last)",
      "Cell \u001b[1;32mIn[53], line 20\u001b[0m\n\u001b[0;32m     17\u001b[0m \u001b[38;5;28;01mfor\u001b[39;00m key, value \u001b[38;5;129;01min\u001b[39;00m \u001b[38;5;28mvars\u001b[39m(args)\u001b[38;5;241m.\u001b[39mitems():\n\u001b[0;32m     18\u001b[0m     mlflow\u001b[38;5;241m.\u001b[39mlog_param(key, value)\n\u001b[1;32m---> 20\u001b[0m \u001b[43mmain\u001b[49m\u001b[43m(\u001b[49m\u001b[43m)\u001b[49m\n",
      "Cell \u001b[1;32mIn[52], line 6\u001b[0m, in \u001b[0;36mmain\u001b[1;34m()\u001b[0m\n\u001b[0;32m      2\u001b[0m N_trainloader \u001b[38;5;241m=\u001b[39m \u001b[38;5;28mlen\u001b[39m(train_data)\n\u001b[0;32m      4\u001b[0m \u001b[38;5;28;01mfor\u001b[39;00m epoch \u001b[38;5;129;01min\u001b[39;00m \u001b[38;5;28mrange\u001b[39m(args\u001b[38;5;241m.\u001b[39mepochs):  \u001b[38;5;66;03m# loop over the dataset multiple times\u001b[39;00m\n\u001b[1;32m----> 6\u001b[0m     \u001b[43mtrain\u001b[49m\u001b[43m(\u001b[49m\u001b[43mepoch\u001b[49m\u001b[43m,\u001b[49m\u001b[43mN_trainloader\u001b[49m\u001b[43m)\u001b[49m\n\u001b[0;32m      7\u001b[0m     test(epoch,test_data)\n\u001b[0;32m     12\u001b[0m scheduler\u001b[38;5;241m.\u001b[39mstep()\n",
      "Cell \u001b[1;32mIn[50], line 12\u001b[0m, in \u001b[0;36mtrain\u001b[1;34m(epoch, N_trainloader)\u001b[0m\n\u001b[0;32m      8\u001b[0m \u001b[38;5;28;01mfor\u001b[39;00m i, data \u001b[38;5;129;01min\u001b[39;00m \u001b[38;5;28menumerate\u001b[39m(train_data):\n\u001b[0;32m      9\u001b[0m     \u001b[38;5;66;03m# get the inputs; data is a list of [inputs, labels]\u001b[39;00m\n\u001b[0;32m     10\u001b[0m     inputs, labels_og \u001b[38;5;241m=\u001b[39m data\n\u001b[1;32m---> 12\u001b[0m     labels \u001b[38;5;241m=\u001b[39m  \u001b[43mresize_label\u001b[49m\u001b[43m(\u001b[49m\u001b[43mlabels_og\u001b[49m\u001b[43m,\u001b[49m\u001b[43m \u001b[49m\u001b[43margs\u001b[49m\u001b[38;5;241;43m.\u001b[39;49m\u001b[43mlabel_time\u001b[49m\u001b[43m)\u001b[49m\n\u001b[0;32m     15\u001b[0m     \u001b[38;5;66;03m# zero the parameter gradients\u001b[39;00m\n\u001b[0;32m     16\u001b[0m     optimizer\u001b[38;5;241m.\u001b[39mzero_grad()\n",
      "File \u001b[1;32m~\\AIG\\data_loading.py:253\u001b[0m, in \u001b[0;36mresize_label\u001b[1;34m(label_og, desired_size)\u001b[0m\n\u001b[0;32m    251\u001b[0m     \u001b[38;5;28;01melse\u001b[39;00m:\n\u001b[0;32m    252\u001b[0m         end \u001b[38;5;241m=\u001b[39m start \u001b[38;5;241m+\u001b[39m desired_size\n\u001b[1;32m--> 253\u001b[0m         label_new[\u001b[38;5;241m0\u001b[39m,I] \u001b[38;5;241m=\u001b[39m \u001b[43mtorch\u001b[49m\u001b[38;5;241;43m.\u001b[39;49m\u001b[43mmax\u001b[49m\u001b[43m(\u001b[49m\u001b[43mlabel_og\u001b[49m\u001b[43m[\u001b[49m\u001b[38;5;241;43m0\u001b[39;49m\u001b[43m,\u001b[49m\u001b[43mstart\u001b[49m\u001b[43m:\u001b[49m\u001b[43mend\u001b[49m\u001b[43m]\u001b[49m\u001b[43m)\u001b[49m\n\u001b[0;32m    255\u001b[0m \u001b[38;5;28;01mreturn\u001b[39;00m label_new\n",
      "\u001b[1;31mKeyboardInterrupt\u001b[0m: "
     ]
    }
   ],
   "source": [
    "import mlflow.pytorch\n",
    "from torchmetrics.classification import BinaryF1Score, BinaryPrecision, BinaryRecall, BinaryAccuracy\n",
    "\n",
    "#F1 = BinaryF1Score(threshold=args.cutoff)\n",
    "f_prec = BinaryPrecision(threshold=args.cutoff)\n",
    "f_rec = BinaryRecall(threshold=args.cutoff)\n",
    "f_acc = BinaryAccuracy(threshold=args.cutoff)\n",
    "\n",
    "\n",
    "#choose experiment name\n",
    "experiment_name = 'test1'\n",
    "mlflow.set_experiment(experiment_name)\n",
    "experiment = mlflow.get_experiment_by_name(experiment_name)\n",
    "\n",
    "with mlflow.start_run() as run:  \n",
    "    # Log our parameters into mlflow\n",
    "    for key, value in vars(args).items():\n",
    "        mlflow.log_param(key, value)\n",
    "    \n",
    "    main()\n",
    "    \n"
   ]
  },
  {
   "cell_type": "code",
   "execution_count": null,
   "id": "50346aa7-9be3-4d4c-8288-19c99408f141",
   "metadata": {},
   "outputs": [],
   "source": []
  },
  {
   "cell_type": "code",
   "execution_count": 49,
   "id": "814a1b9b-930c-40de-806c-1629ad2d9432",
   "metadata": {
    "tags": []
   },
   "outputs": [
    {
     "ename": "NameError",
     "evalue": "name 'epoch' is not defined",
     "output_type": "error",
     "traceback": [
      "\u001b[1;31m---------------------------------------------------------------------------\u001b[0m",
      "\u001b[1;31mNameError\u001b[0m                                 Traceback (most recent call last)",
      "Cell \u001b[1;32mIn[49], line 35\u001b[0m\n\u001b[0;32m     31\u001b[0m     mean_label \u001b[38;5;241m=\u001b[39m running_av_label\u001b[38;5;241m/\u001b[39mN_trainloader\n\u001b[0;32m     32\u001b[0m     \u001b[38;5;28mprint\u001b[39m(\u001b[38;5;124mf\u001b[39m\u001b[38;5;124m'\u001b[39m\u001b[38;5;124mTestEpoch [\u001b[39m\u001b[38;5;132;01m{\u001b[39;00mepoch\u001b[38;5;250m \u001b[39m\u001b[38;5;241m+\u001b[39m\u001b[38;5;250m \u001b[39m\u001b[38;5;241m1\u001b[39m\u001b[38;5;132;01m}\u001b[39;00m\u001b[38;5;124m], accuracy  = \u001b[39m\u001b[38;5;132;01m{\u001b[39;00macc\u001b[38;5;132;01m}\u001b[39;00m\u001b[38;5;124m, precision =  \u001b[39m\u001b[38;5;132;01m{\u001b[39;00mprec\u001b[38;5;132;01m}\u001b[39;00m\u001b[38;5;124m, recall =  \u001b[39m\u001b[38;5;132;01m{\u001b[39;00mrec\u001b[38;5;132;01m}\u001b[39;00m\u001b[38;5;124m, average label \u001b[39m\u001b[38;5;132;01m{\u001b[39;00mmean_label\u001b[38;5;132;01m}\u001b[39;00m\u001b[38;5;124m'\u001b[39m)\n\u001b[1;32m---> 35\u001b[0m test(\u001b[43mepoch\u001b[49m,test_data)\n",
      "\u001b[1;31mNameError\u001b[0m: name 'epoch' is not defined"
     ]
    }
   ],
   "source": [
    "def test(epoch,test_data):\n",
    "    running_loss = 0.0\n",
    "    running_accuracy = 0.0\n",
    "    running_prec = 0.0\n",
    "    running_rec = 0.0\n",
    "    running_av_label = 0.0 \n",
    "    \n",
    "    model.eval()\n",
    "    \n",
    "    N_trainloader = len(test_data)\n",
    "\n",
    "\n",
    "    for i, data in enumerate(test_data):\n",
    "        # get the inputs; data is a list of [inputs, labels]\n",
    "        inputs, labels_og = data\n",
    "\n",
    "        labels =  resize_label(labels_og, args.label_time)\n",
    "\n",
    "        outputs = model(inputs)\n",
    "\n",
    "\n",
    "        running_accuracy += f_acc(outputs,labels)\n",
    "        #get_accuracy(labels, outputs,cutoff=args.cutoff)\n",
    "        running_prec += f_prec(outputs,labels)\n",
    "        running_rec  += f_rec(outputs,labels)\n",
    "        running_av_label += torch.mean(labels)\n",
    "\n",
    "    acc = running_accuracy/N_trainloader\n",
    "    prec = running_prec/N_trainloader\n",
    "    rec = running_rec/N_trainloader    \n",
    "    mean_label = running_av_label/N_trainloader\n",
    "    print(f'Test for Epoch [{epoch + 1}], accuracy  = {acc}, precision =  {prec}, recall =  {rec}, average label {mean_label}')\n",
    "\n",
    "    \n"
   ]
  },
  {
   "cell_type": "code",
   "execution_count": 40,
   "id": "0edb9a89-5ebb-477b-9fc9-01b98d6149a4",
   "metadata": {
    "tags": []
   },
   "outputs": [
    {
     "name": "stdout",
     "output_type": "stream",
     "text": [
      "1.0\n",
      "tensor(1.)\n"
     ]
    },
    {
     "data": {
      "image/png": "[encoded data removed]",
      "text/plain": [
       "<Figure size 640x480 with 1 Axes>"
      ]
     },
     "metadata": {},
     "output_type": "display_data"
    },
    {
     "name": "stdout",
     "output_type": "stream",
     "text": [
      "1.0\n",
      "tensor(1.)\n"
     ]
    },
    {
     "data": {
      "image/png": "[encoded data removed]",
      "text/plain": [
       "<Figure size 640x480 with 1 Axes>"
      ]
     },
     "metadata": {},
     "output_type": "display_data"
    },
    {
     "name": "stdout",
     "output_type": "stream",
     "text": [
      "1.0\n",
      "tensor(1.)\n"
     ]
    },
    {
     "data": {
      "image/png": "[encoded data removed]",
      "text/plain": [
       "<Figure size 640x480 with 1 Axes>"
      ]
     },
     "metadata": {},
     "output_type": "display_data"
    },
    {
     "name": "stdout",
     "output_type": "stream",
     "text": [
      "0.8909090909090909\n",
      "tensor(0.8909)\n"
     ]
    },
    {
     "data": {
      "image/png": "[encoded data removed]",
      "text/plain": [
       "<Figure size 640x480 with 1 Axes>"
      ]
     },
     "metadata": {},
     "output_type": "display_data"
    },
    {
     "name": "stdout",
     "output_type": "stream",
     "text": [
      "0.8909090909090909\n",
      "tensor(0.8909)\n"
     ]
    },
    {
     "data": {
      "image/png": "[encoded data removed]",
      "text/plain": [
       "<Figure size 640x480 with 1 Axes>"
      ]
     },
     "metadata": {},
     "output_type": "display_data"
    },
    {
     "name": "stdout",
     "output_type": "stream",
     "text": [
      "0.8909090909090909\n",
      "tensor(0.8909)\n"
     ]
    },
    {
     "data": {
      "image/png": "[encoded data removed]",
      "text/plain": [
       "<Figure size 640x480 with 1 Axes>"
      ]
     },
     "metadata": {},
     "output_type": "display_data"
    }
   ],
   "source": [
    "# test on test data\n",
    "\n",
    "model.eval()\n",
    "    running_loss = 0.0\n",
    "    running_accuracy = 0.0\n",
    "    running_prec = 0.0\n",
    "    running_rec = 0.0\n",
    "    running_av_label = 0.0 \n",
    "\n",
    "for i, data in enumerate(train_data):\n",
    "    # get the inputs; data is a list of [inputs, labels]\n",
    "    inputs, labels_og = data\n",
    "\n",
    "    labels =  resize_label(labels_og, args.label_time)\n",
    "    \n",
    "    out = model(inputs)\n",
    "    \n",
    "    print(get_accuracy(labels, out,cutoff=args.cutoff))\n",
    "    print(f_acc(out,labels))\n",
    "    \n",
    "    #plot \n",
    "    plot_new_vs_old_label(labels,out.detach().numpy())"
   ]
  },
  {
   "cell_type": "code",
   "execution_count": null,
   "id": "f93b9052-94ee-48ff-bbda-6d020e7d4703",
   "metadata": {},
   "outputs": [],
   "source": []
  },
  {
   "cell_type": "code",
   "execution_count": null,
   "id": "b9257907-52da-49d7-9691-67263a137e1c",
   "metadata": {},
   "outputs": [],
   "source": []
  },
  {
   "cell_type": "code",
   "execution_count": null,
   "id": "45c16275-15ad-46bf-819c-a25c0b4f20ac",
   "metadata": {},
   "outputs": [],
   "source": []
  },
  {
   "cell_type": "code",
   "execution_count": null,
   "id": "25fb939e-e684-45e8-b1bb-fe429d8ac0dc",
   "metadata": {},
   "outputs": [],
   "source": []
  },
  {
   "cell_type": "code",
   "execution_count": null,
   "id": "bebc61d0-9ed7-48f1-830c-47c33b89a6c3",
   "metadata": {},
   "outputs": [],
   "source": []
  },
  {
   "cell_type": "code",
   "execution_count": null,
   "id": "f7062eb8-6f02-4bdc-82f7-24f293e0b35b",
   "metadata": {},
   "outputs": [],
   "source": []
  },
  {
   "cell_type": "code",
   "execution_count": null,
   "id": "9fb083c8-77f3-4b04-b228-02cf7e57f4f6",
   "metadata": {},
   "outputs": [],
   "source": []
  },
  {
   "cell_type": "code",
   "execution_count": null,
   "id": "ed33f466-7d36-442a-97db-957e359079d4",
   "metadata": {},
   "outputs": [],
   "source": []
  },
  {
   "cell_type": "code",
   "execution_count": null,
   "id": "254372f1-3d69-4dd8-aa90-371c332593ee",
   "metadata": {},
   "outputs": [],
   "source": []
  },
  {
   "cell_type": "code",
   "execution_count": null,
   "id": "fd989e63-3c02-46a5-a7d9-06ff9af54466",
   "metadata": {},
   "outputs": [],
   "source": []
  },
  {
   "cell_type": "code",
   "execution_count": null,
   "id": "15d7cfe3-b968-419f-ada3-c232ea41a58d",
   "metadata": {},
   "outputs": [],
   "source": []
  },
  {
   "cell_type": "code",
   "execution_count": null,
   "id": "165a7101-1752-4397-9036-b3fc102ccc28",
   "metadata": {},
   "outputs": [],
   "source": []
  },
  {
   "cell_type": "code",
   "execution_count": null,
   "id": "72f4a75e-8958-4c8c-a167-b554578cc7bd",
   "metadata": {},
   "outputs": [],
   "source": []
  },
  {
   "cell_type": "code",
   "execution_count": null,
   "id": "6ddbc59b-f217-47b9-aac0-b9706d8daf92",
   "metadata": {},
   "outputs": [],
   "source": []
  },
  {
   "cell_type": "code",
   "execution_count": null,
   "id": "e5e6f074-996b-4d21-8875-81615042df77",
   "metadata": {},
   "outputs": [],
   "source": []
  },
  {
   "cell_type": "code",
   "execution_count": null,
   "id": "05e83d41-409e-4433-a497-01218c8eaf73",
   "metadata": {},
   "outputs": [],
   "source": []
  },
  {
   "cell_type": "code",
   "execution_count": 162,
   "id": "cc245052-7371-4bda-9684-5cc62e1c175a",
   "metadata": {
    "tags": []
   },
   "outputs": [
    {
     "name": "stdout",
     "output_type": "stream",
     "text": [
      "input shape: (1,151,801)\n",
      "----------------------------------------------------------------\n",
      "        Layer (type)               Output Shape         Param #\n",
      "================================================================\n",
      "            Conv1d-1               [-1, 1, 197]           2,266\n",
      "               GRU-2  [[-1, 1, 1375], [-1, 2, 1375]]               0\n",
      "            Linear-3              [-1, 1, 1375]       1,892,000\n",
      "           Sigmoid-4                 [-1, 1375]               0\n",
      "================================================================\n",
      "Total params: 1,894,266\n",
      "Trainable params: 1,894,266\n",
      "Non-trainable params: 0\n",
      "----------------------------------------------------------------\n",
      "Input size (MB): 0.46\n",
      "Forward/backward pass size (MB): 28.83\n",
      "Params size (MB): 7.23\n",
      "Estimated Total Size (MB): 36.51\n",
      "----------------------------------------------------------------\n",
      "Epoch [1] loss: 0.6483827233314514, learning rate [0.0004], training accuracy cutoff (0.1): 0.054337662337662344, average label 0.05433766171336174\n",
      "Epoch [2] loss: 0.44301438331604004, learning rate [0.00042291169451073987], training accuracy cutoff (0.1): 0.054337662337662344, average label 0.05433766171336174\n",
      "Epoch [3] loss: 0.5088964104652405, learning rate [0.0004458233890214797], training accuracy cutoff (0.1): 0.5707012987012987, average label 0.05433766171336174\n",
      "Epoch [4] loss: 0.4650270640850067, learning rate [0.0004687350835322196], training accuracy cutoff (0.1): 0.9456103896103896, average label 0.05433766171336174\n",
      "Epoch [5] loss: 0.37140071392059326, learning rate [0.0004916467780429595], training accuracy cutoff (0.1): 0.9061298701298702, average label 0.05433766171336174\n",
      "Epoch [6] loss: 0.324992835521698, learning rate [0.0005145584725536993], training accuracy cutoff (0.1): 0.6731428571428573, average label 0.05433766171336174\n",
      "Epoch [7] loss: 0.3272623121738434, learning rate [0.0005374701670644392], training accuracy cutoff (0.1): 0.7611948051948051, average label 0.05433766171336174\n",
      "Epoch [8] loss: 0.377429336309433, learning rate [0.000560381861575179], training accuracy cutoff (0.1): 0.8557922077922077, average label 0.05433766171336174\n",
      "Epoch [9] loss: 0.31085845828056335, learning rate [0.0005832935560859189], training accuracy cutoff (0.1): 0.8452467532467532, average label 0.05433766171336174\n",
      "Epoch [10] loss: 0.3080596923828125, learning rate [0.0006062052505966587], training accuracy cutoff (0.1): 0.765818181818182, average label 0.05433766171336174\n",
      "Epoch [11] loss: 0.32871490716934204, learning rate [0.0006291169451073986], training accuracy cutoff (0.1): 0.8548571428571429, average label 0.05433766171336174\n",
      "Epoch [12] loss: 0.32381439208984375, learning rate [0.0006520286396181384], training accuracy cutoff (0.1): 0.7825974025974026, average label 0.05433766171336174\n",
      "Epoch [13] loss: 0.30858421325683594, learning rate [0.0006749403341288784], training accuracy cutoff (0.1): 0.7785974025974028, average label 0.05433766171336174\n",
      "Epoch [14] loss: 0.31989797949790955, learning rate [0.0006978520286396181], training accuracy cutoff (0.1): 0.7797922077922079, average label 0.05433766171336174\n",
      "Epoch [15] loss: 0.3345244228839874, learning rate [0.0007207637231503581], training accuracy cutoff (0.1): 0.7834285714285716, average label 0.05433766171336174\n",
      "Epoch [16] loss: 0.2997385561466217, learning rate [0.0007436754176610979], training accuracy cutoff (0.1): 0.7642597402597404, average label 0.05433766171336174\n",
      "Epoch [17] loss: 0.30064550042152405, learning rate [0.0007665871121718378], training accuracy cutoff (0.1): 0.7790129870129873, average label 0.05433766171336174\n",
      "Epoch [18] loss: 0.3202911913394928, learning rate [0.0007894988066825776], training accuracy cutoff (0.1): 0.7996363636363635, average label 0.05433766171336174\n",
      "Epoch [19] loss: 0.3046818971633911, learning rate [0.0008124105011933175], training accuracy cutoff (0.1): 0.7782857142857145, average label 0.05433766171336174\n"
     ]
    },
    {
     "ename": "KeyboardInterrupt",
     "evalue": "",
     "output_type": "error",
     "traceback": [
      "\u001b[1;31m---------------------------------------------------------------------------\u001b[0m",
      "\u001b[1;31mKeyboardInterrupt\u001b[0m                         Traceback (most recent call last)",
      "File \u001b[1;32m~\\AIG\\train.py:108\u001b[0m\n\u001b[0;32m    106\u001b[0m loss \u001b[38;5;241m=\u001b[39m criterion(outputs, labels)\n\u001b[0;32m    107\u001b[0m loss\u001b[38;5;241m.\u001b[39mbackward()\n\u001b[1;32m--> 108\u001b[0m \u001b[43moptimizer\u001b[49m\u001b[38;5;241;43m.\u001b[39;49m\u001b[43mstep\u001b[49m\u001b[43m(\u001b[49m\u001b[43m)\u001b[49m\n\u001b[0;32m    110\u001b[0m \u001b[38;5;66;03m# print statistics\u001b[39;00m\n\u001b[0;32m    111\u001b[0m running_loss \u001b[38;5;241m+\u001b[39m\u001b[38;5;241m=\u001b[39m loss\u001b[38;5;241m.\u001b[39mitem()\n",
      "File \u001b[1;32m~\\AIG\\venv\\AIG_venv\\lib\\site-packages\\torch\\optim\\lr_scheduler.py:69\u001b[0m, in \u001b[0;36mLRScheduler.__init__.<locals>.with_counter.<locals>.wrapper\u001b[1;34m(*args, **kwargs)\u001b[0m\n\u001b[0;32m     67\u001b[0m instance\u001b[38;5;241m.\u001b[39m_step_count \u001b[38;5;241m+\u001b[39m\u001b[38;5;241m=\u001b[39m \u001b[38;5;241m1\u001b[39m\n\u001b[0;32m     68\u001b[0m wrapped \u001b[38;5;241m=\u001b[39m func\u001b[38;5;241m.\u001b[39m\u001b[38;5;21m__get__\u001b[39m(instance, \u001b[38;5;28mcls\u001b[39m)\n\u001b[1;32m---> 69\u001b[0m \u001b[38;5;28;01mreturn\u001b[39;00m wrapped(\u001b[38;5;241m*\u001b[39margs, \u001b[38;5;241m*\u001b[39m\u001b[38;5;241m*\u001b[39mkwargs)\n",
      "File \u001b[1;32m~\\AIG\\venv\\AIG_venv\\lib\\site-packages\\torch\\optim\\optimizer.py:280\u001b[0m, in \u001b[0;36mOptimizer.profile_hook_step.<locals>.wrapper\u001b[1;34m(*args, **kwargs)\u001b[0m\n\u001b[0;32m    276\u001b[0m         \u001b[38;5;28;01melse\u001b[39;00m:\n\u001b[0;32m    277\u001b[0m             \u001b[38;5;28;01mraise\u001b[39;00m \u001b[38;5;167;01mRuntimeError\u001b[39;00m(\u001b[38;5;124mf\u001b[39m\u001b[38;5;124m\"\u001b[39m\u001b[38;5;132;01m{\u001b[39;00mfunc\u001b[38;5;132;01m}\u001b[39;00m\u001b[38;5;124m must return None or a tuple of (new_args, new_kwargs),\u001b[39m\u001b[38;5;124m\"\u001b[39m\n\u001b[0;32m    278\u001b[0m                                \u001b[38;5;124mf\u001b[39m\u001b[38;5;124m\"\u001b[39m\u001b[38;5;124mbut got \u001b[39m\u001b[38;5;132;01m{\u001b[39;00mresult\u001b[38;5;132;01m}\u001b[39;00m\u001b[38;5;124m.\u001b[39m\u001b[38;5;124m\"\u001b[39m)\n\u001b[1;32m--> 280\u001b[0m out \u001b[38;5;241m=\u001b[39m func(\u001b[38;5;241m*\u001b[39margs, \u001b[38;5;241m*\u001b[39m\u001b[38;5;241m*\u001b[39mkwargs)\n\u001b[0;32m    281\u001b[0m \u001b[38;5;28mself\u001b[39m\u001b[38;5;241m.\u001b[39m_optimizer_step_code()\n\u001b[0;32m    283\u001b[0m \u001b[38;5;66;03m# call optimizer step post hooks\u001b[39;00m\n",
      "File \u001b[1;32m~\\AIG\\venv\\AIG_venv\\lib\\site-packages\\torch\\optim\\optimizer.py:33\u001b[0m, in \u001b[0;36m_use_grad_for_differentiable.<locals>._use_grad\u001b[1;34m(self, *args, **kwargs)\u001b[0m\n\u001b[0;32m     31\u001b[0m \u001b[38;5;28;01mtry\u001b[39;00m:\n\u001b[0;32m     32\u001b[0m     torch\u001b[38;5;241m.\u001b[39mset_grad_enabled(\u001b[38;5;28mself\u001b[39m\u001b[38;5;241m.\u001b[39mdefaults[\u001b[38;5;124m'\u001b[39m\u001b[38;5;124mdifferentiable\u001b[39m\u001b[38;5;124m'\u001b[39m])\n\u001b[1;32m---> 33\u001b[0m     ret \u001b[38;5;241m=\u001b[39m func(\u001b[38;5;28mself\u001b[39m, \u001b[38;5;241m*\u001b[39margs, \u001b[38;5;241m*\u001b[39m\u001b[38;5;241m*\u001b[39mkwargs)\n\u001b[0;32m     34\u001b[0m \u001b[38;5;28;01mfinally\u001b[39;00m:\n\u001b[0;32m     35\u001b[0m     torch\u001b[38;5;241m.\u001b[39mset_grad_enabled(prev_grad)\n",
      "File \u001b[1;32m~\\AIG\\venv\\AIG_venv\\lib\\site-packages\\torch\\optim\\adamw.py:171\u001b[0m, in \u001b[0;36mAdamW.step\u001b[1;34m(self, closure)\u001b[0m\n\u001b[0;32m    158\u001b[0m     beta1, beta2 \u001b[38;5;241m=\u001b[39m group[\u001b[38;5;124m\"\u001b[39m\u001b[38;5;124mbetas\u001b[39m\u001b[38;5;124m\"\u001b[39m]\n\u001b[0;32m    160\u001b[0m     \u001b[38;5;28mself\u001b[39m\u001b[38;5;241m.\u001b[39m_init_group(\n\u001b[0;32m    161\u001b[0m         group,\n\u001b[0;32m    162\u001b[0m         params_with_grad,\n\u001b[1;32m   (...)\u001b[0m\n\u001b[0;32m    168\u001b[0m         state_steps,\n\u001b[0;32m    169\u001b[0m     )\n\u001b[1;32m--> 171\u001b[0m     \u001b[43madamw\u001b[49m\u001b[43m(\u001b[49m\n\u001b[0;32m    172\u001b[0m \u001b[43m        \u001b[49m\u001b[43mparams_with_grad\u001b[49m\u001b[43m,\u001b[49m\n\u001b[0;32m    173\u001b[0m \u001b[43m        \u001b[49m\u001b[43mgrads\u001b[49m\u001b[43m,\u001b[49m\n\u001b[0;32m    174\u001b[0m \u001b[43m        \u001b[49m\u001b[43mexp_avgs\u001b[49m\u001b[43m,\u001b[49m\n\u001b[0;32m    175\u001b[0m \u001b[43m        \u001b[49m\u001b[43mexp_avg_sqs\u001b[49m\u001b[43m,\u001b[49m\n\u001b[0;32m    176\u001b[0m \u001b[43m        \u001b[49m\u001b[43mmax_exp_avg_sqs\u001b[49m\u001b[43m,\u001b[49m\n\u001b[0;32m    177\u001b[0m \u001b[43m        \u001b[49m\u001b[43mstate_steps\u001b[49m\u001b[43m,\u001b[49m\n\u001b[0;32m    178\u001b[0m \u001b[43m        \u001b[49m\u001b[43mamsgrad\u001b[49m\u001b[38;5;241;43m=\u001b[39;49m\u001b[43mamsgrad\u001b[49m\u001b[43m,\u001b[49m\n\u001b[0;32m    179\u001b[0m \u001b[43m        \u001b[49m\u001b[43mbeta1\u001b[49m\u001b[38;5;241;43m=\u001b[39;49m\u001b[43mbeta1\u001b[49m\u001b[43m,\u001b[49m\n\u001b[0;32m    180\u001b[0m \u001b[43m        \u001b[49m\u001b[43mbeta2\u001b[49m\u001b[38;5;241;43m=\u001b[39;49m\u001b[43mbeta2\u001b[49m\u001b[43m,\u001b[49m\n\u001b[0;32m    181\u001b[0m \u001b[43m        \u001b[49m\u001b[43mlr\u001b[49m\u001b[38;5;241;43m=\u001b[39;49m\u001b[43mgroup\u001b[49m\u001b[43m[\u001b[49m\u001b[38;5;124;43m\"\u001b[39;49m\u001b[38;5;124;43mlr\u001b[39;49m\u001b[38;5;124;43m\"\u001b[39;49m\u001b[43m]\u001b[49m\u001b[43m,\u001b[49m\n\u001b[0;32m    182\u001b[0m \u001b[43m        \u001b[49m\u001b[43mweight_decay\u001b[49m\u001b[38;5;241;43m=\u001b[39;49m\u001b[43mgroup\u001b[49m\u001b[43m[\u001b[49m\u001b[38;5;124;43m\"\u001b[39;49m\u001b[38;5;124;43mweight_decay\u001b[39;49m\u001b[38;5;124;43m\"\u001b[39;49m\u001b[43m]\u001b[49m\u001b[43m,\u001b[49m\n\u001b[0;32m    183\u001b[0m \u001b[43m        \u001b[49m\u001b[43meps\u001b[49m\u001b[38;5;241;43m=\u001b[39;49m\u001b[43mgroup\u001b[49m\u001b[43m[\u001b[49m\u001b[38;5;124;43m\"\u001b[39;49m\u001b[38;5;124;43meps\u001b[39;49m\u001b[38;5;124;43m\"\u001b[39;49m\u001b[43m]\u001b[49m\u001b[43m,\u001b[49m\n\u001b[0;32m    184\u001b[0m \u001b[43m        \u001b[49m\u001b[43mmaximize\u001b[49m\u001b[38;5;241;43m=\u001b[39;49m\u001b[43mgroup\u001b[49m\u001b[43m[\u001b[49m\u001b[38;5;124;43m\"\u001b[39;49m\u001b[38;5;124;43mmaximize\u001b[39;49m\u001b[38;5;124;43m\"\u001b[39;49m\u001b[43m]\u001b[49m\u001b[43m,\u001b[49m\n\u001b[0;32m    185\u001b[0m \u001b[43m        \u001b[49m\u001b[43mforeach\u001b[49m\u001b[38;5;241;43m=\u001b[39;49m\u001b[43mgroup\u001b[49m\u001b[43m[\u001b[49m\u001b[38;5;124;43m\"\u001b[39;49m\u001b[38;5;124;43mforeach\u001b[39;49m\u001b[38;5;124;43m\"\u001b[39;49m\u001b[43m]\u001b[49m\u001b[43m,\u001b[49m\n\u001b[0;32m    186\u001b[0m \u001b[43m        \u001b[49m\u001b[43mcapturable\u001b[49m\u001b[38;5;241;43m=\u001b[39;49m\u001b[43mgroup\u001b[49m\u001b[43m[\u001b[49m\u001b[38;5;124;43m\"\u001b[39;49m\u001b[38;5;124;43mcapturable\u001b[39;49m\u001b[38;5;124;43m\"\u001b[39;49m\u001b[43m]\u001b[49m\u001b[43m,\u001b[49m\n\u001b[0;32m    187\u001b[0m \u001b[43m        \u001b[49m\u001b[43mdifferentiable\u001b[49m\u001b[38;5;241;43m=\u001b[39;49m\u001b[43mgroup\u001b[49m\u001b[43m[\u001b[49m\u001b[38;5;124;43m\"\u001b[39;49m\u001b[38;5;124;43mdifferentiable\u001b[39;49m\u001b[38;5;124;43m\"\u001b[39;49m\u001b[43m]\u001b[49m\u001b[43m,\u001b[49m\n\u001b[0;32m    188\u001b[0m \u001b[43m        \u001b[49m\u001b[43mfused\u001b[49m\u001b[38;5;241;43m=\u001b[39;49m\u001b[43mgroup\u001b[49m\u001b[43m[\u001b[49m\u001b[38;5;124;43m\"\u001b[39;49m\u001b[38;5;124;43mfused\u001b[39;49m\u001b[38;5;124;43m\"\u001b[39;49m\u001b[43m]\u001b[49m\u001b[43m,\u001b[49m\n\u001b[0;32m    189\u001b[0m \u001b[43m        \u001b[49m\u001b[43mgrad_scale\u001b[49m\u001b[38;5;241;43m=\u001b[39;49m\u001b[38;5;28;43mgetattr\u001b[39;49m\u001b[43m(\u001b[49m\u001b[38;5;28;43mself\u001b[39;49m\u001b[43m,\u001b[49m\u001b[43m \u001b[49m\u001b[38;5;124;43m\"\u001b[39;49m\u001b[38;5;124;43mgrad_scale\u001b[39;49m\u001b[38;5;124;43m\"\u001b[39;49m\u001b[43m,\u001b[49m\u001b[43m \u001b[49m\u001b[38;5;28;43;01mNone\u001b[39;49;00m\u001b[43m)\u001b[49m\u001b[43m,\u001b[49m\n\u001b[0;32m    190\u001b[0m \u001b[43m        \u001b[49m\u001b[43mfound_inf\u001b[49m\u001b[38;5;241;43m=\u001b[39;49m\u001b[38;5;28;43mgetattr\u001b[39;49m\u001b[43m(\u001b[49m\u001b[38;5;28;43mself\u001b[39;49m\u001b[43m,\u001b[49m\u001b[43m \u001b[49m\u001b[38;5;124;43m\"\u001b[39;49m\u001b[38;5;124;43mfound_inf\u001b[39;49m\u001b[38;5;124;43m\"\u001b[39;49m\u001b[43m,\u001b[49m\u001b[43m \u001b[49m\u001b[38;5;28;43;01mNone\u001b[39;49;00m\u001b[43m)\u001b[49m\u001b[43m,\u001b[49m\n\u001b[0;32m    191\u001b[0m \u001b[43m    \u001b[49m\u001b[43m)\u001b[49m\n\u001b[0;32m    193\u001b[0m \u001b[38;5;28;01mreturn\u001b[39;00m loss\n",
      "File \u001b[1;32m~\\AIG\\venv\\AIG_venv\\lib\\site-packages\\torch\\optim\\adamw.py:321\u001b[0m, in \u001b[0;36madamw\u001b[1;34m(params, grads, exp_avgs, exp_avg_sqs, max_exp_avg_sqs, state_steps, foreach, capturable, differentiable, fused, grad_scale, found_inf, amsgrad, beta1, beta2, lr, weight_decay, eps, maximize)\u001b[0m\n\u001b[0;32m    318\u001b[0m \u001b[38;5;28;01melse\u001b[39;00m:\n\u001b[0;32m    319\u001b[0m     func \u001b[38;5;241m=\u001b[39m _single_tensor_adamw\n\u001b[1;32m--> 321\u001b[0m \u001b[43mfunc\u001b[49m\u001b[43m(\u001b[49m\n\u001b[0;32m    322\u001b[0m \u001b[43m    \u001b[49m\u001b[43mparams\u001b[49m\u001b[43m,\u001b[49m\n\u001b[0;32m    323\u001b[0m \u001b[43m    \u001b[49m\u001b[43mgrads\u001b[49m\u001b[43m,\u001b[49m\n\u001b[0;32m    324\u001b[0m \u001b[43m    \u001b[49m\u001b[43mexp_avgs\u001b[49m\u001b[43m,\u001b[49m\n\u001b[0;32m    325\u001b[0m \u001b[43m    \u001b[49m\u001b[43mexp_avg_sqs\u001b[49m\u001b[43m,\u001b[49m\n\u001b[0;32m    326\u001b[0m \u001b[43m    \u001b[49m\u001b[43mmax_exp_avg_sqs\u001b[49m\u001b[43m,\u001b[49m\n\u001b[0;32m    327\u001b[0m \u001b[43m    \u001b[49m\u001b[43mstate_steps\u001b[49m\u001b[43m,\u001b[49m\n\u001b[0;32m    328\u001b[0m \u001b[43m    \u001b[49m\u001b[43mamsgrad\u001b[49m\u001b[38;5;241;43m=\u001b[39;49m\u001b[43mamsgrad\u001b[49m\u001b[43m,\u001b[49m\n\u001b[0;32m    329\u001b[0m \u001b[43m    \u001b[49m\u001b[43mbeta1\u001b[49m\u001b[38;5;241;43m=\u001b[39;49m\u001b[43mbeta1\u001b[49m\u001b[43m,\u001b[49m\n\u001b[0;32m    330\u001b[0m \u001b[43m    \u001b[49m\u001b[43mbeta2\u001b[49m\u001b[38;5;241;43m=\u001b[39;49m\u001b[43mbeta2\u001b[49m\u001b[43m,\u001b[49m\n\u001b[0;32m    331\u001b[0m \u001b[43m    \u001b[49m\u001b[43mlr\u001b[49m\u001b[38;5;241;43m=\u001b[39;49m\u001b[43mlr\u001b[49m\u001b[43m,\u001b[49m\n\u001b[0;32m    332\u001b[0m \u001b[43m    \u001b[49m\u001b[43mweight_decay\u001b[49m\u001b[38;5;241;43m=\u001b[39;49m\u001b[43mweight_decay\u001b[49m\u001b[43m,\u001b[49m\n\u001b[0;32m    333\u001b[0m \u001b[43m    \u001b[49m\u001b[43meps\u001b[49m\u001b[38;5;241;43m=\u001b[39;49m\u001b[43meps\u001b[49m\u001b[43m,\u001b[49m\n\u001b[0;32m    334\u001b[0m \u001b[43m    \u001b[49m\u001b[43mmaximize\u001b[49m\u001b[38;5;241;43m=\u001b[39;49m\u001b[43mmaximize\u001b[49m\u001b[43m,\u001b[49m\n\u001b[0;32m    335\u001b[0m \u001b[43m    \u001b[49m\u001b[43mcapturable\u001b[49m\u001b[38;5;241;43m=\u001b[39;49m\u001b[43mcapturable\u001b[49m\u001b[43m,\u001b[49m\n\u001b[0;32m    336\u001b[0m \u001b[43m    \u001b[49m\u001b[43mdifferentiable\u001b[49m\u001b[38;5;241;43m=\u001b[39;49m\u001b[43mdifferentiable\u001b[49m\u001b[43m,\u001b[49m\n\u001b[0;32m    337\u001b[0m \u001b[43m    \u001b[49m\u001b[43mgrad_scale\u001b[49m\u001b[38;5;241;43m=\u001b[39;49m\u001b[43mgrad_scale\u001b[49m\u001b[43m,\u001b[49m\n\u001b[0;32m    338\u001b[0m \u001b[43m    \u001b[49m\u001b[43mfound_inf\u001b[49m\u001b[38;5;241;43m=\u001b[39;49m\u001b[43mfound_inf\u001b[49m\u001b[43m,\u001b[49m\n\u001b[0;32m    339\u001b[0m \u001b[43m\u001b[49m\u001b[43m)\u001b[49m\n",
      "File \u001b[1;32m~\\AIG\\venv\\AIG_venv\\lib\\site-packages\\torch\\optim\\adamw.py:440\u001b[0m, in \u001b[0;36m_single_tensor_adamw\u001b[1;34m(params, grads, exp_avgs, exp_avg_sqs, max_exp_avg_sqs, state_steps, grad_scale, found_inf, amsgrad, beta1, beta2, lr, weight_decay, eps, maximize, capturable, differentiable)\u001b[0m\n\u001b[0;32m    438\u001b[0m     denom \u001b[38;5;241m=\u001b[39m (max_exp_avg_sqs[i]\u001b[38;5;241m.\u001b[39msqrt() \u001b[38;5;241m/\u001b[39m bias_correction2_sqrt)\u001b[38;5;241m.\u001b[39madd_(eps)\n\u001b[0;32m    439\u001b[0m \u001b[38;5;28;01melse\u001b[39;00m:\n\u001b[1;32m--> 440\u001b[0m     denom \u001b[38;5;241m=\u001b[39m \u001b[43m(\u001b[49m\u001b[43mexp_avg_sq\u001b[49m\u001b[38;5;241;43m.\u001b[39;49m\u001b[43msqrt\u001b[49m\u001b[43m(\u001b[49m\u001b[43m)\u001b[49m\u001b[43m \u001b[49m\u001b[38;5;241;43m/\u001b[39;49m\u001b[43m \u001b[49m\u001b[43mbias_correction2_sqrt\u001b[49m\u001b[43m)\u001b[49m\u001b[38;5;241;43m.\u001b[39;49m\u001b[43madd_\u001b[49m\u001b[43m(\u001b[49m\u001b[43meps\u001b[49m\u001b[43m)\u001b[49m\n\u001b[0;32m    442\u001b[0m param\u001b[38;5;241m.\u001b[39maddcdiv_(exp_avg, denom, value\u001b[38;5;241m=\u001b[39m\u001b[38;5;241m-\u001b[39mstep_size)\n",
      "\u001b[1;31mKeyboardInterrupt\u001b[0m: "
     ]
    }
   ],
   "source": [
    "%run train"
   ]
  },
  {
   "cell_type": "code",
   "execution_count": null,
   "id": "4309cee7-83c7-4fe4-ba44-5db1cf7ad468",
   "metadata": {},
   "outputs": [],
   "source": []
  },
  {
   "cell_type": "code",
   "execution_count": null,
   "id": "1d389ca9-62e3-4fbe-893a-c8ae472d8993",
   "metadata": {},
   "outputs": [],
   "source": []
  },
  {
   "cell_type": "code",
   "execution_count": null,
   "id": "c8945177-cc2c-48cd-8333-944f194f64ef",
   "metadata": {},
   "outputs": [],
   "source": []
  },
  {
   "cell_type": "code",
   "execution_count": null,
   "id": "0bc529aa-aea7-4489-a364-76ae938cbf15",
   "metadata": {},
   "outputs": [],
   "source": []
  },
  {
   "cell_type": "code",
   "execution_count": null,
   "id": "11a5f5ea-2f2d-4205-827e-b8eb9dcd1410",
   "metadata": {},
   "outputs": [],
   "source": []
  },
  {
   "cell_type": "code",
   "execution_count": 43,
   "id": "dec65c54-4475-483b-bd2c-860723ba5615",
   "metadata": {
    "tags": []
   },
   "outputs": [],
   "source": [
    "def train(epoch):\n",
    "    '''\n",
    "    # The example doesn't pass model and criterion as variables - I assume this is to keep their scope global \n",
    "    '''\n",
    "    N_trainloader = len(train_loader)\n",
    "    model.train()\n",
    "    \n",
    "    running_loss = 0.0\n",
    "    running_accuracy = 0.0\n",
    "    running_av_label = 0.0 \n",
    "    for batch_idx, (data, labels_og) in enumerate(train_loader):\n",
    "        #resize the labels to match the size of the output of the NN\n",
    "        labels =  resize_label(labels_og, output_time)\n",
    "        \n",
    "        \n",
    "        # zero the parameter gradients\n",
    "        optimizer.zero_grad()\n",
    "\n",
    "        # forward + backward + optimize\n",
    "        outputs = model(inputs)\n",
    "        loss = criterion(outputs, labels)\n",
    "        loss.backward()\n",
    "        \n",
    "        #add in early stopping \n",
    "        \n",
    "        \n",
    "        optimizer.step()\n",
    "\n",
    "        # print statistics\n",
    "        running_loss += loss.item()\n",
    "        running_accuracy += get_accuracy(labels, outputs,cutoff=cutoff)\n",
    "        running_av_label += torch.mean(labels)\n",
    "        if batch_idx % args.log_interval == 0:\n",
    "\n",
    "            print('Train Epoch: {} [{}/{} ({:.0f}%)]\\tLoss: {:.6f}'.format(\n",
    "\n",
    "                epoch, batch_idx * len(data), len(train_loader.dataset),\n",
    "\n",
    "                100. * batch_idx / len(train_loader), loss.data.item()))\n",
    "\n",
    "            step = epoch * len(train_loader) + batch_idx\n",
    "\n",
    "            log_scalar('train_loss', loss.data.item(), step)\n",
    "\n",
    "            model.log_weights(step)\n",
    "    \n",
    "    print(f'Epoch [{epoch + 1}] loss: {loss}, learning rate {scheduler.get_lr()}, training accuracy cutoff ({cutoff}): {running_accuracy/N_trainloader}, average label {running_av_label/N_trainloader}')\n",
    "\n",
    "        \n",
    "    "
   ]
  },
  {
   "cell_type": "code",
   "execution_count": 77,
   "id": "30eec8a5-3389-4492-9981-6b5d168dfa5f",
   "metadata": {
    "tags": []
   },
   "outputs": [],
   "source": [
    "import mlflow"
   ]
  },
  {
   "cell_type": "code",
   "execution_count": 79,
   "id": "03ca32c2-3adb-4380-8f8f-36654145d9fa",
   "metadata": {
    "tags": []
   },
   "outputs": [
    {
     "name": "stdout",
     "output_type": "stream",
     "text": [
      "Train Epoch: 0 [0/14 (0%)]\tLoss: 0.107134\n",
      "Epoch [1] loss: 0.5574777126312256, learning rate [0.0004], training accuracy cutoff (0.8): 0.9456623376623376, average label 0.05433766171336174\n"
     ]
    }
   ],
   "source": [
    "'''\n",
    "# The example doesn't pass model and criterion as variables - I assume this is to keep their scope global \n",
    "'''\n",
    "train = ReadData_Mel('train',spectrogram_str=True, normalize = True, mask_str = False, number_frequencies = args.number_frequencies,number_time_steps = args.number_time_steps, t_l = 100, f_l = 2)\n",
    "\n",
    "N_trainloader = len(train)\n",
    "model.train()\n",
    "epoch = 0\n",
    "\n",
    "running_loss = 0.0\n",
    "running_accuracy = 0.0\n",
    "running_av_label = 0.0 \n",
    "for batch_idx, (data, labels_og) in enumerate(train):\n",
    "    #resize the labels to match the size of the output of the NN\n",
    "    labels =  resize_label(labels_og, output_time)\n",
    "\n",
    "\n",
    "    # zero the parameter gradients\n",
    "    optimizer.zero_grad()\n",
    "\n",
    "    # forward + backward + optimize\n",
    "    outputs = model(data)\n",
    "    loss = criterion(outputs, labels)\n",
    "    loss.backward()\n",
    "\n",
    "    #add in early stopping \n",
    "\n",
    "\n",
    "    optimizer.step()\n",
    "\n",
    "    # print statistics\n",
    "    running_loss += loss.item()\n",
    "    running_accuracy += get_accuracy(labels, outputs,cutoff=args.cutoff)\n",
    "    running_av_label += torch.mean(labels)\n",
    "    if batch_idx % args.log_interval == 0:\n",
    "\n",
    "        print('Train Epoch: {} [{}/{} ({:.0f}%)]\\tLoss: {:.6f}'.format(\n",
    "\n",
    "            epoch, batch_idx * len(data), len(train_loader.dataset),\n",
    "\n",
    "            100. * batch_idx / len(train_loader), loss.data.item()))\n",
    "\n",
    "        step = epoch * len(train_loader) + batch_idx\n",
    "\n",
    "        log_scalar('train_loss', loss.data.item(), step)\n",
    "\n",
    "        #model.log_weights(step)\n",
    "\n",
    "print(f'Epoch [{epoch + 1}] loss: {loss}, learning rate {scheduler.get_lr()}, training accuracy cutoff ({args.cutoff}): {running_accuracy/N_trainloader}, average label {running_av_label/N_trainloader}')"
   ]
  },
  {
   "cell_type": "code",
   "execution_count": 74,
   "id": "d31be25a-3ae7-4a26-bab4-a37b35e984ab",
   "metadata": {
    "tags": []
   },
   "outputs": [
    {
     "data": {
      "text/plain": [
       "['__abstractmethods__',\n",
       " '__class__',\n",
       " '__delattr__',\n",
       " '__dict__',\n",
       " '__dir__',\n",
       " '__doc__',\n",
       " '__eq__',\n",
       " '__format__',\n",
       " '__ge__',\n",
       " '__getattribute__',\n",
       " '__gt__',\n",
       " '__hash__',\n",
       " '__init__',\n",
       " '__init_subclass__',\n",
       " '__le__',\n",
       " '__lt__',\n",
       " '__module__',\n",
       " '__ne__',\n",
       " '__new__',\n",
       " '__reduce__',\n",
       " '__reduce_ex__',\n",
       " '__repr__',\n",
       " '__setattr__',\n",
       " '__sizeof__',\n",
       " '__str__',\n",
       " '__subclasshook__',\n",
       " '__weakref__',\n",
       " '_abc_impl',\n",
       " '_closed',\n",
       " '_init_op',\n",
       " '_resource',\n",
       " '_resource_deleter',\n",
       " '_set_up_resource_deleter',\n",
       " '_tf_api_names',\n",
       " '_tf_api_names_v1',\n",
       " 'as_default',\n",
       " 'close',\n",
       " 'flush',\n",
       " 'init',\n",
       " 'set_as_default']"
      ]
     },
     "execution_count": 74,
     "metadata": {},
     "output_type": "execute_result"
    }
   ],
   "source": [
    "dir(writer)"
   ]
  },
  {
   "cell_type": "code",
   "execution_count": 40,
   "id": "b4f60f90-2741-4ea3-81c2-eddd951aa095",
   "metadata": {
    "tags": []
   },
   "outputs": [
    {
     "data": {
      "text/plain": [
       "0"
      ]
     },
     "execution_count": 40,
     "metadata": {},
     "output_type": "execute_result"
    }
   ],
   "source": [
    "writer.add_summary(scalar(name, value).eval(), step)"
   ]
  },
  {
   "cell_type": "code",
   "execution_count": 96,
   "id": "a14e3c20-200d-4cb6-b9ed-820aa069f554",
   "metadata": {
    "tags": []
   },
   "outputs": [
    {
     "ename": "RuntimeError",
     "evalue": "Expected 2D (unbatched) or 3D (batched) input to conv1d, but got input of size: [4, 1, 151, 801]",
     "output_type": "error",
     "traceback": [
      "\u001b[1;31m---------------------------------------------------------------------------\u001b[0m",
      "\u001b[1;31mRuntimeError\u001b[0m                              Traceback (most recent call last)",
      "Cell \u001b[1;32mIn[96], line 20\u001b[0m\n\u001b[0;32m     17\u001b[0m optimizer\u001b[38;5;241m.\u001b[39mzero_grad()\n\u001b[0;32m     19\u001b[0m \u001b[38;5;66;03m# forward + backward + optimize\u001b[39;00m\n\u001b[1;32m---> 20\u001b[0m outputs \u001b[38;5;241m=\u001b[39m \u001b[43mmodel\u001b[49m\u001b[43m(\u001b[49m\u001b[43minputs\u001b[49m\u001b[43m)\u001b[49m\n\u001b[0;32m     21\u001b[0m loss \u001b[38;5;241m=\u001b[39m criterion(outputs, labels)\n\u001b[0;32m     22\u001b[0m loss\u001b[38;5;241m.\u001b[39mbackward()\n",
      "File \u001b[1;32m~\\AIG\\venv\\AIG_venv\\lib\\site-packages\\torch\\nn\\modules\\module.py:1501\u001b[0m, in \u001b[0;36mModule._call_impl\u001b[1;34m(self, *args, **kwargs)\u001b[0m\n\u001b[0;32m   1496\u001b[0m \u001b[38;5;66;03m# If we don't have any hooks, we want to skip the rest of the logic in\u001b[39;00m\n\u001b[0;32m   1497\u001b[0m \u001b[38;5;66;03m# this function, and just call forward.\u001b[39;00m\n\u001b[0;32m   1498\u001b[0m \u001b[38;5;28;01mif\u001b[39;00m \u001b[38;5;129;01mnot\u001b[39;00m (\u001b[38;5;28mself\u001b[39m\u001b[38;5;241m.\u001b[39m_backward_hooks \u001b[38;5;129;01mor\u001b[39;00m \u001b[38;5;28mself\u001b[39m\u001b[38;5;241m.\u001b[39m_backward_pre_hooks \u001b[38;5;129;01mor\u001b[39;00m \u001b[38;5;28mself\u001b[39m\u001b[38;5;241m.\u001b[39m_forward_hooks \u001b[38;5;129;01mor\u001b[39;00m \u001b[38;5;28mself\u001b[39m\u001b[38;5;241m.\u001b[39m_forward_pre_hooks\n\u001b[0;32m   1499\u001b[0m         \u001b[38;5;129;01mor\u001b[39;00m _global_backward_pre_hooks \u001b[38;5;129;01mor\u001b[39;00m _global_backward_hooks\n\u001b[0;32m   1500\u001b[0m         \u001b[38;5;129;01mor\u001b[39;00m _global_forward_hooks \u001b[38;5;129;01mor\u001b[39;00m _global_forward_pre_hooks):\n\u001b[1;32m-> 1501\u001b[0m     \u001b[38;5;28;01mreturn\u001b[39;00m forward_call(\u001b[38;5;241m*\u001b[39margs, \u001b[38;5;241m*\u001b[39m\u001b[38;5;241m*\u001b[39mkwargs)\n\u001b[0;32m   1502\u001b[0m \u001b[38;5;66;03m# Do not call functions when jit is used\u001b[39;00m\n\u001b[0;32m   1503\u001b[0m full_backward_hooks, non_full_backward_hooks \u001b[38;5;241m=\u001b[39m [], []\n",
      "File \u001b[1;32m~\\AIG\\model.py:93\u001b[0m, in \u001b[0;36mTriggerWord_LSTM.forward\u001b[1;34m(self, xb)\u001b[0m\n\u001b[0;32m     89\u001b[0m \u001b[38;5;28;01mdef\u001b[39;00m \u001b[38;5;21mforward\u001b[39m(\u001b[38;5;28mself\u001b[39m,xb):\n\u001b[0;32m     90\u001b[0m \u001b[38;5;250m    \u001b[39m\u001b[38;5;124;03m'''\u001b[39;00m\n\u001b[0;32m     91\u001b[0m \u001b[38;5;124;03m    Apply the layers to the batch input\u001b[39;00m\n\u001b[0;32m     92\u001b[0m \u001b[38;5;124;03m    '''\u001b[39;00m\n\u001b[1;32m---> 93\u001b[0m     out \u001b[38;5;241m=\u001b[39m \u001b[38;5;28;43mself\u001b[39;49m\u001b[38;5;241;43m.\u001b[39;49m\u001b[43mConv\u001b[49m\u001b[43m(\u001b[49m\u001b[43mxb\u001b[49m\u001b[43m)\u001b[49m\n\u001b[0;32m     95\u001b[0m     out, hidden_state \u001b[38;5;241m=\u001b[39m \u001b[38;5;28mself\u001b[39m\u001b[38;5;241m.\u001b[39mGRU(out)\n\u001b[0;32m     97\u001b[0m     out \u001b[38;5;241m=\u001b[39m \u001b[38;5;28mself\u001b[39m\u001b[38;5;241m.\u001b[39mDense(out)\u001b[38;5;241m.\u001b[39msqueeze(\u001b[38;5;241m1\u001b[39m)  \u001b[38;5;66;03m#remove 1 singleton dimension - not the batch dimension\u001b[39;00m\n",
      "File \u001b[1;32m~\\AIG\\venv\\AIG_venv\\lib\\site-packages\\torch\\nn\\modules\\module.py:1501\u001b[0m, in \u001b[0;36mModule._call_impl\u001b[1;34m(self, *args, **kwargs)\u001b[0m\n\u001b[0;32m   1496\u001b[0m \u001b[38;5;66;03m# If we don't have any hooks, we want to skip the rest of the logic in\u001b[39;00m\n\u001b[0;32m   1497\u001b[0m \u001b[38;5;66;03m# this function, and just call forward.\u001b[39;00m\n\u001b[0;32m   1498\u001b[0m \u001b[38;5;28;01mif\u001b[39;00m \u001b[38;5;129;01mnot\u001b[39;00m (\u001b[38;5;28mself\u001b[39m\u001b[38;5;241m.\u001b[39m_backward_hooks \u001b[38;5;129;01mor\u001b[39;00m \u001b[38;5;28mself\u001b[39m\u001b[38;5;241m.\u001b[39m_backward_pre_hooks \u001b[38;5;129;01mor\u001b[39;00m \u001b[38;5;28mself\u001b[39m\u001b[38;5;241m.\u001b[39m_forward_hooks \u001b[38;5;129;01mor\u001b[39;00m \u001b[38;5;28mself\u001b[39m\u001b[38;5;241m.\u001b[39m_forward_pre_hooks\n\u001b[0;32m   1499\u001b[0m         \u001b[38;5;129;01mor\u001b[39;00m _global_backward_pre_hooks \u001b[38;5;129;01mor\u001b[39;00m _global_backward_hooks\n\u001b[0;32m   1500\u001b[0m         \u001b[38;5;129;01mor\u001b[39;00m _global_forward_hooks \u001b[38;5;129;01mor\u001b[39;00m _global_forward_pre_hooks):\n\u001b[1;32m-> 1501\u001b[0m     \u001b[38;5;28;01mreturn\u001b[39;00m forward_call(\u001b[38;5;241m*\u001b[39margs, \u001b[38;5;241m*\u001b[39m\u001b[38;5;241m*\u001b[39mkwargs)\n\u001b[0;32m   1502\u001b[0m \u001b[38;5;66;03m# Do not call functions when jit is used\u001b[39;00m\n\u001b[0;32m   1503\u001b[0m full_backward_hooks, non_full_backward_hooks \u001b[38;5;241m=\u001b[39m [], []\n",
      "File \u001b[1;32m~\\AIG\\venv\\AIG_venv\\lib\\site-packages\\torch\\nn\\modules\\conv.py:313\u001b[0m, in \u001b[0;36mConv1d.forward\u001b[1;34m(self, input)\u001b[0m\n\u001b[0;32m    312\u001b[0m \u001b[38;5;28;01mdef\u001b[39;00m \u001b[38;5;21mforward\u001b[39m(\u001b[38;5;28mself\u001b[39m, \u001b[38;5;28minput\u001b[39m: Tensor) \u001b[38;5;241m-\u001b[39m\u001b[38;5;241m>\u001b[39m Tensor:\n\u001b[1;32m--> 313\u001b[0m     \u001b[38;5;28;01mreturn\u001b[39;00m \u001b[38;5;28;43mself\u001b[39;49m\u001b[38;5;241;43m.\u001b[39;49m\u001b[43m_conv_forward\u001b[49m\u001b[43m(\u001b[49m\u001b[38;5;28;43minput\u001b[39;49m\u001b[43m,\u001b[49m\u001b[43m \u001b[49m\u001b[38;5;28;43mself\u001b[39;49m\u001b[38;5;241;43m.\u001b[39;49m\u001b[43mweight\u001b[49m\u001b[43m,\u001b[49m\u001b[43m \u001b[49m\u001b[38;5;28;43mself\u001b[39;49m\u001b[38;5;241;43m.\u001b[39;49m\u001b[43mbias\u001b[49m\u001b[43m)\u001b[49m\n",
      "File \u001b[1;32m~\\AIG\\venv\\AIG_venv\\lib\\site-packages\\torch\\nn\\modules\\conv.py:309\u001b[0m, in \u001b[0;36mConv1d._conv_forward\u001b[1;34m(self, input, weight, bias)\u001b[0m\n\u001b[0;32m    305\u001b[0m \u001b[38;5;28;01mif\u001b[39;00m \u001b[38;5;28mself\u001b[39m\u001b[38;5;241m.\u001b[39mpadding_mode \u001b[38;5;241m!=\u001b[39m \u001b[38;5;124m'\u001b[39m\u001b[38;5;124mzeros\u001b[39m\u001b[38;5;124m'\u001b[39m:\n\u001b[0;32m    306\u001b[0m     \u001b[38;5;28;01mreturn\u001b[39;00m F\u001b[38;5;241m.\u001b[39mconv1d(F\u001b[38;5;241m.\u001b[39mpad(\u001b[38;5;28minput\u001b[39m, \u001b[38;5;28mself\u001b[39m\u001b[38;5;241m.\u001b[39m_reversed_padding_repeated_twice, mode\u001b[38;5;241m=\u001b[39m\u001b[38;5;28mself\u001b[39m\u001b[38;5;241m.\u001b[39mpadding_mode),\n\u001b[0;32m    307\u001b[0m                     weight, bias, \u001b[38;5;28mself\u001b[39m\u001b[38;5;241m.\u001b[39mstride,\n\u001b[0;32m    308\u001b[0m                     _single(\u001b[38;5;241m0\u001b[39m), \u001b[38;5;28mself\u001b[39m\u001b[38;5;241m.\u001b[39mdilation, \u001b[38;5;28mself\u001b[39m\u001b[38;5;241m.\u001b[39mgroups)\n\u001b[1;32m--> 309\u001b[0m \u001b[38;5;28;01mreturn\u001b[39;00m \u001b[43mF\u001b[49m\u001b[38;5;241;43m.\u001b[39;49m\u001b[43mconv1d\u001b[49m\u001b[43m(\u001b[49m\u001b[38;5;28;43minput\u001b[39;49m\u001b[43m,\u001b[49m\u001b[43m \u001b[49m\u001b[43mweight\u001b[49m\u001b[43m,\u001b[49m\u001b[43m \u001b[49m\u001b[43mbias\u001b[49m\u001b[43m,\u001b[49m\u001b[43m \u001b[49m\u001b[38;5;28;43mself\u001b[39;49m\u001b[38;5;241;43m.\u001b[39;49m\u001b[43mstride\u001b[49m\u001b[43m,\u001b[49m\n\u001b[0;32m    310\u001b[0m \u001b[43m                \u001b[49m\u001b[38;5;28;43mself\u001b[39;49m\u001b[38;5;241;43m.\u001b[39;49m\u001b[43mpadding\u001b[49m\u001b[43m,\u001b[49m\u001b[43m \u001b[49m\u001b[38;5;28;43mself\u001b[39;49m\u001b[38;5;241;43m.\u001b[39;49m\u001b[43mdilation\u001b[49m\u001b[43m,\u001b[49m\u001b[43m \u001b[49m\u001b[38;5;28;43mself\u001b[39;49m\u001b[38;5;241;43m.\u001b[39;49m\u001b[43mgroups\u001b[49m\u001b[43m)\u001b[49m\n",
      "\u001b[1;31mRuntimeError\u001b[0m: Expected 2D (unbatched) or 3D (batched) input to conv1d, but got input of size: [4, 1, 151, 801]"
     ]
    }
   ],
   "source": [
    "trainloader = train\n",
    "N_trainloader = len(train_loader)\n",
    "\n",
    "for epoch in range(args.epochs):  # loop over the dataset multiple times\n",
    "\n",
    "    running_loss = 0.0\n",
    "    running_accuracy = 0.0\n",
    "    running_av_label = 0.0 \n",
    "    for i, data in enumerate(train_loader, 0):\n",
    "        # get the inputs; data is a list of [inputs, labels]\n",
    "        inputs, labels_og = data\n",
    "        \n",
    "        labels =  resize_label(labels_og, args.label_time)\n",
    "        \n",
    "\n",
    "        # zero the parameter gradients\n",
    "        optimizer.zero_grad()\n",
    "\n",
    "        # forward + backward + optimize\n",
    "        outputs = model(inputs)\n",
    "        loss = criterion(outputs, labels)\n",
    "        loss.backward()\n",
    "        optimizer.step()\n",
    "\n",
    "        # print statistics\n",
    "        running_loss += loss.item()\n",
    "        running_accuracy += get_accuracy(labels, outputs,cutoff=cutoff)\n",
    "        running_av_label += torch.mean(labels)\n",
    "        # if i % 4 == 3:    # print every 2000 mini-batches\n",
    "        #     print(f'[{epoch + 1}, {i + 1:5d}] loss: {running_loss / 2000:.7f}')\n",
    "        #     running_loss = 0.0\n",
    "    \n",
    "    \n",
    "    print(f'Epoch [{epoch + 1}] loss: {loss}, learning rate {scheduler.get_lr()}, training accuracy cutoff ({cutoff}): {running_accuracy/N_trainloader}, average label {running_av_label/N_trainloader}')\n",
    "    \n",
    "    \n",
    "\n",
    "print('Finished Training')\n"
   ]
  },
  {
   "cell_type": "code",
   "execution_count": null,
   "id": "71fce047-666d-458c-8ed2-1fa238f0f8ea",
   "metadata": {},
   "outputs": [],
   "source": []
  },
  {
   "cell_type": "code",
   "execution_count": null,
   "id": "cfe1a80c-a10a-417c-b024-c620760803be",
   "metadata": {},
   "outputs": [],
   "source": []
  },
  {
   "cell_type": "code",
   "execution_count": null,
   "id": "a8f90ee8-44be-4565-9355-3cd25f3788da",
   "metadata": {},
   "outputs": [],
   "source": []
  },
  {
   "cell_type": "code",
   "execution_count": null,
   "id": "c9dcd37c-14b7-46b2-b94c-bbdbc1e3861e",
   "metadata": {},
   "outputs": [],
   "source": [
    "def main():\n",
    "    \n",
    "    \n",
    "    \n",
    "    train(epoch)\n",
    "    test(epoc)\n",
    "    scheduler.step()"
   ]
  },
  {
   "cell_type": "code",
   "execution_count": null,
   "id": "7d9c0de8-9721-470d-95db-c871d838b413",
   "metadata": {},
   "outputs": [],
   "source": []
  },
  {
   "cell_type": "code",
   "execution_count": null,
   "id": "61e7d5ea-77c5-48eb-8636-08c99c0f1455",
   "metadata": {},
   "outputs": [],
   "source": []
  },
  {
   "cell_type": "code",
   "execution_count": null,
   "id": "2ac08dfc-3cba-4fb9-aa66-a518ff293002",
   "metadata": {},
   "outputs": [],
   "source": []
  },
  {
   "cell_type": "code",
   "execution_count": null,
   "id": "1fad1db6-bf94-4c5b-88dc-c9efff903c10",
   "metadata": {},
   "outputs": [],
   "source": []
  },
  {
   "cell_type": "code",
   "execution_count": 1,
   "id": "4ba558ec-ba48-45d0-aca8-bf2f21f65678",
   "metadata": {
    "tags": []
   },
   "outputs": [
    {
     "name": "stderr",
     "output_type": "stream",
     "text": [
      "C:\\Users\\AT030915\\AIG\\venv\\AIG_venv\\lib\\site-packages\\torchaudio\\functional\\functional.py:576: UserWarning: At least one mel filterbank has all zero values. The value for `n_mels` (151) may be set too high. Or, the value for `n_freqs` (201) may be set too low.\n",
      "  warnings.warn(\n"
     ]
    },
    {
     "name": "stdout",
     "output_type": "stream",
     "text": [
      "input shape: (1,151,801)\n",
      "----------------------------------------------------------------\n",
      "        Layer (type)               Output Shape         Param #\n",
      "================================================================\n",
      "            Conv1d-1               [-1, 1, 197]           2,266\n",
      "               GRU-2  [[-1, 1, 1375], [-1, 2, 1375]]               0\n",
      "            Linear-3              [-1, 1, 1375]       1,892,000\n",
      "           Sigmoid-4                 [-1, 1375]               0\n",
      "================================================================\n",
      "Total params: 1,894,266\n",
      "Trainable params: 1,894,266\n",
      "Non-trainable params: 0\n",
      "----------------------------------------------------------------\n",
      "Input size (MB): 0.46\n",
      "Forward/backward pass size (MB): 28.83\n",
      "Params size (MB): 7.23\n",
      "Estimated Total Size (MB): 36.51\n",
      "----------------------------------------------------------------\n"
     ]
    },
    {
     "name": "stderr",
     "output_type": "stream",
     "text": [
      "C:\\Users\\AT030915\\AIG\\venv\\AIG_venv\\lib\\site-packages\\torch\\optim\\lr_scheduler.py:1699: UserWarning: To get the last learning rate computed by the scheduler, please use `get_last_lr()`.\n",
      "  warnings.warn(\"To get the last learning rate computed by the scheduler, \"\n"
     ]
    },
    {
     "name": "stdout",
     "output_type": "stream",
     "text": [
      "Epoch [1] loss: 0.6478915810585022, learning rate [0.0004], training accuracy cutoff (0.1): 0.054337662337662344, average label 0.05433766171336174\n",
      "Epoch [2] loss: 0.435183048248291, learning rate [0.00042291169451073987], training accuracy cutoff (0.1): 0.054337662337662344, average label 0.05433766171336174\n"
     ]
    },
    {
     "ename": "KeyboardInterrupt",
     "evalue": "",
     "output_type": "error",
     "traceback": [
      "\u001b[1;31m---------------------------------------------------------------------------\u001b[0m",
      "\u001b[1;31mKeyboardInterrupt\u001b[0m                         Traceback (most recent call last)",
      "File \u001b[1;32m~\\AIG\\train.py:98\u001b[0m\n\u001b[0;32m     94\u001b[0m \u001b[38;5;28;01mfor\u001b[39;00m i, data \u001b[38;5;129;01min\u001b[39;00m \u001b[38;5;28menumerate\u001b[39m(trainloader, \u001b[38;5;241m0\u001b[39m):\n\u001b[0;32m     95\u001b[0m     \u001b[38;5;66;03m# get the inputs; data is a list of [inputs, labels]\u001b[39;00m\n\u001b[0;32m     96\u001b[0m     inputs, labels_og \u001b[38;5;241m=\u001b[39m data\n\u001b[1;32m---> 98\u001b[0m     labels \u001b[38;5;241m=\u001b[39m  \u001b[43mresize_label\u001b[49m\u001b[43m(\u001b[49m\u001b[43mlabels_og\u001b[49m\u001b[43m,\u001b[49m\u001b[43m \u001b[49m\u001b[43mlabel_time\u001b[49m\u001b[43m)\u001b[49m\n\u001b[0;32m    101\u001b[0m     \u001b[38;5;66;03m# zero the parameter gradients\u001b[39;00m\n\u001b[0;32m    102\u001b[0m     optimizer\u001b[38;5;241m.\u001b[39mzero_grad()\n",
      "File \u001b[1;32m~\\AIG\\data_loading.py:253\u001b[0m, in \u001b[0;36mresize_label\u001b[1;34m(label_og, desired_size)\u001b[0m\n\u001b[0;32m    251\u001b[0m     \u001b[38;5;28;01melse\u001b[39;00m:\n\u001b[0;32m    252\u001b[0m         end \u001b[38;5;241m=\u001b[39m start \u001b[38;5;241m+\u001b[39m desired_size\n\u001b[1;32m--> 253\u001b[0m         label_new[\u001b[38;5;241m0\u001b[39m,I] \u001b[38;5;241m=\u001b[39m \u001b[43mtorch\u001b[49m\u001b[38;5;241;43m.\u001b[39;49m\u001b[43mmax\u001b[49m\u001b[43m(\u001b[49m\u001b[43mlabel_og\u001b[49m\u001b[43m[\u001b[49m\u001b[38;5;241;43m0\u001b[39;49m\u001b[43m,\u001b[49m\u001b[43mstart\u001b[49m\u001b[43m:\u001b[49m\u001b[43mend\u001b[49m\u001b[43m]\u001b[49m\u001b[43m)\u001b[49m\n\u001b[0;32m    255\u001b[0m \u001b[38;5;28;01mreturn\u001b[39;00m label_new\n",
      "\u001b[1;31mKeyboardInterrupt\u001b[0m: "
     ]
    }
   ],
   "source": [
    "%run train"
   ]
  },
  {
   "cell_type": "code",
   "execution_count": 8,
   "id": "d7db36e5-0def-4e03-9eb0-58c33a7e5095",
   "metadata": {
    "tags": []
   },
   "outputs": [
    {
     "data": {
      "text/plain": [
       "torch.Size([1, 160000])"
      ]
     },
     "execution_count": 8,
     "metadata": {},
     "output_type": "execute_result"
    }
   ],
   "source": [
    "labels_og.shape"
   ]
  },
  {
   "cell_type": "code",
   "execution_count": null,
   "id": "9c5204d1-d713-49be-a694-2631f82b2bbc",
   "metadata": {},
   "outputs": [],
   "source": []
  }
 ],
 "metadata": {
  "kernelspec": {
   "display_name": "Python 3 (ipykernel)",
   "language": "python",
   "name": "python3"
  },
  "language_info": {
   "codemirror_mode": {
    "name": "ipython",
    "version": 3
   },
   "file_extension": ".py",
   "mimetype": "text/x-python",
   "name": "python",
   "nbconvert_exporter": "python",
   "pygments_lexer": "ipython3",
   "version": "3.10.11"
  }
 },
 "nbformat": 4,
 "nbformat_minor": 5
}
