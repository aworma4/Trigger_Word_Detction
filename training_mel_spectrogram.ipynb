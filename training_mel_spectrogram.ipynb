{
 "cells": [
  {
   "cell_type": "markdown",
   "id": "534e890e-b5d3-4225-9e2a-1ab74444a7c4",
   "metadata": {},
   "source": [
    "# Trialing training the new ReadData_Mel class"
   ]
  },
  {
   "cell_type": "code",
   "execution_count": null,
   "id": "73b8b918-c9cf-489b-b641-92892e8e727f",
   "metadata": {
    "tags": []
   },
   "outputs": [
    {
     "name": "stdout",
     "output_type": "stream",
     "text": [
      "input shape: (1,151,801)\n",
      "----------------------------------------------------------------\n",
      "        Layer (type)               Output Shape         Param #\n",
      "================================================================\n",
      "            Conv1d-1               [-1, 1, 197]           2,266\n",
      "               GRU-2  [[-1, 1, 1375], [-1, 2, 1375]]               0\n",
      "            Linear-3              [-1, 1, 1375]       1,892,000\n",
      "           Sigmoid-4                 [-1, 1375]               0\n",
      "================================================================\n",
      "Total params: 1,894,266\n",
      "Trainable params: 1,894,266\n",
      "Non-trainable params: 0\n",
      "----------------------------------------------------------------\n",
      "Input size (MB): 0.46\n",
      "Forward/backward pass size (MB): 28.83\n",
      "Params size (MB): 7.23\n",
      "Estimated Total Size (MB): 36.51\n",
      "----------------------------------------------------------------\n"
     ]
    }
   ],
   "source": [
    "%run train.py"
   ]
  },
  {
   "cell_type": "code",
   "execution_count": null,
   "id": "d3f2c17a-2e7d-4a45-a097-ad465b6c52f7",
   "metadata": {},
   "outputs": [],
   "source": []
  }
 ],
 "metadata": {
  "kernelspec": {
   "display_name": "Python 3 (ipykernel)",
   "language": "python",
   "name": "python3"
  },
  "language_info": {
   "codemirror_mode": {
    "name": "ipython",
    "version": 3
   },
   "file_extension": ".py",
   "mimetype": "text/x-python",
   "name": "python",
   "nbconvert_exporter": "python",
   "pygments_lexer": "ipython3",
   "version": "3.10.11"
  }
 },
 "nbformat": 4,
 "nbformat_minor": 5
}
